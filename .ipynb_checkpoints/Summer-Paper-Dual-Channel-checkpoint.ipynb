{
 "cells": [
  {
   "cell_type": "code",
   "execution_count": 13,
   "metadata": {
    "collapsed": true
   },
   "outputs": [],
   "source": [
    "# python ready\n",
    "from sympy import *\n",
    "import numpy as np\n",
    "from matplotlib import pyplot as plt\n",
    "import warnings\n",
    "warnings.filterwarnings('ignore')\n",
    "plt.style.use('ggplot')\n",
    "from jupyterthemes import jtplot\n",
    "jtplot.style(theme = 'grade3',context='notebook', fscale=1.4, spines=False, gridlines='-',\n",
    "            ticks=True, grid=False, figsize=(10, 4.5))\n",
    "# jt -t grade3 -f roboto -tf merriserif -tfs 10 -nf goudyserif -nfs 11 -mathfs 85 -N -lineh 100 -cursc r -cursw 3 -cellw 88% -f source -fs 90"
   ]
  },
  {
   "cell_type": "code",
   "execution_count": 14,
   "metadata": {
    "collapsed": true
   },
   "outputs": [],
   "source": [
    "# symbolic representation\n",
    "p1, p2, w1, w2, w = var(['p1','p2','w1','w2','w'])\n",
    "s, c1, c2 = var(['theta', 'c1', 'c2'])\n",
    "l1, l2, l3 = var(['lambda1', 'lambda2','lambda3'])\n",
    "v1 = p1; v2 = p2/s; v12 = (p1-p2)/(1-s)"
   ]
  },
  {
   "cell_type": "markdown",
   "metadata": {},
   "source": [
    "# customer utility and demand function\n",
    "\n",
    "If the product is sold in less famous retail store at a price $p_2$ and the value of the product is $\\theta v$, then the resulting consumer surplus is $v−p_2$. If consumers can buy from either channel, their decisions revolve around the comparison of the consumer surplus derived from two retail stores: $(v-p_1) - (\\theta v-p_2)$. if $(v-p_1) < (\\theta v-p_2)$ then the pricing advantage of less foumous retailer is preferred to the more reputable retailer. \n",
    "\n",
    "$$\n",
    "Q_1 = \\left\\{\\begin{matrix}\n",
    "1-\\frac{p_1-p_2}{1-\\theta} & \\frac{p_2}{\\theta}\\leq p_1\\\\ \n",
    "1-p_1 & \\frac{p_2}{\\theta}\\geq p_1\n",
    "\\end{matrix}\\right.\n",
    "$$\n",
    "\n",
    "$$\n",
    "Q_d = \\left\\{\\begin{matrix}\n",
    "\\frac{\\theta p_1-p_2}{\\theta(1-\\theta)} & \\frac{p_2}{\\theta}\\leq p_1\\\\ \n",
    "0 & \\frac{p_2}{\\theta}\\geq p_1\n",
    "\\end{matrix}\\right.\n",
    "$$\n"
   ]
  },
  {
   "cell_type": "code",
   "execution_count": 15,
   "metadata": {
    "collapsed": true
   },
   "outputs": [],
   "source": [
    "# demand function\n",
    "# case 1: v2 < v1 < v12 = p1 > p2/s\n",
    "Q1_1 = 1-v12 \n",
    "Q2_1 = v12 - v2\n",
    "Q0_1 = v2\n",
    "# case 2: v1 < v2 < v12 = p2/s > p1\n",
    "Q1_2 = 1- v1\n",
    "Q2_2 = 0\n",
    "Q0_2 = v1"
   ]
  },
  {
   "cell_type": "markdown",
   "metadata": {
    "collapsed": true
   },
   "source": [
    "# Base Case: Monopoly, one retailer only"
   ]
  },
  {
   "cell_type": "code",
   "execution_count": 16,
   "metadata": {
    "collapsed": true
   },
   "outputs": [],
   "source": [
    "plot_Q1 = Piecewise((Q1_1, p2/s <= p1), (Q1_2, True))\n",
    "plot_Q2 = Piecewise((Q2_1, p2/s <= p1), (Q2_2, True))\n",
    "plot_Q0 = Piecewise((Q0_1, p2/s <= p1), (Q0_2, True))"
   ]
  },
  {
   "cell_type": "code",
   "execution_count": 19,
   "metadata": {},
   "outputs": [
    {
     "data": {
      "text/html": [
       "\n",
       "    <div class=\"bk-root\">\n",
       "        <a href=\"http://bokeh.pydata.org\" target=\"_blank\" class=\"bk-logo bk-logo-small bk-logo-notebook\"></a>\n",
       "        <span id=\"883f9412-3ab9-402c-830c-a7a456de00c3\">Loading BokehJS ...</span>\n",
       "    </div>"
      ]
     },
     "metadata": {},
     "output_type": "display_data"
    },
    {
     "data": {
      "application/javascript": [
       "\n",
       "(function(root) {\n",
       "  function now() {\n",
       "    return new Date();\n",
       "  }\n",
       "\n",
       "  var force = true;\n",
       "\n",
       "  if (typeof (root._bokeh_onload_callbacks) === \"undefined\" || force === true) {\n",
       "    root._bokeh_onload_callbacks = [];\n",
       "    root._bokeh_is_loading = undefined;\n",
       "  }\n",
       "\n",
       "  \n",
       "  \n",
       "\n",
       "  \n",
       "  if (typeof (window._bokeh_timeout) === \"undefined\" || force === true) {\n",
       "    window._bokeh_timeout = Date.now() + 5000;\n",
       "    window._bokeh_failed_load = false;\n",
       "  }\n",
       "\n",
       "  var NB_LOAD_WARNING = {'data': {'text/html':\n",
       "     \"<div style='background-color: #fdd'>\\n\"+\n",
       "     \"<p>\\n\"+\n",
       "     \"BokehJS does not appear to have successfully loaded. If loading BokehJS from CDN, this \\n\"+\n",
       "     \"may be due to a slow or bad network connection. Possible fixes:\\n\"+\n",
       "     \"</p>\\n\"+\n",
       "     \"<ul>\\n\"+\n",
       "     \"<li>re-rerun `output_notebook()` to attempt to load from CDN again, or</li>\\n\"+\n",
       "     \"<li>use INLINE resources instead, as so:</li>\\n\"+\n",
       "     \"</ul>\\n\"+\n",
       "     \"<code>\\n\"+\n",
       "     \"from bokeh.resources import INLINE\\n\"+\n",
       "     \"output_notebook(resources=INLINE)\\n\"+\n",
       "     \"</code>\\n\"+\n",
       "     \"</div>\"}};\n",
       "\n",
       "  function display_loaded() {\n",
       "    if (window.Bokeh !== undefined) {\n",
       "      var el = document.getElementById(\"883f9412-3ab9-402c-830c-a7a456de00c3\");\n",
       "      el.textContent = \"BokehJS \" + Bokeh.version + \" successfully loaded.\";\n",
       "    } else if (Date.now() < window._bokeh_timeout) {\n",
       "      setTimeout(display_loaded, 100)\n",
       "    }\n",
       "  }\n",
       "\n",
       "  function run_callbacks() {\n",
       "    try {\n",
       "      root._bokeh_onload_callbacks.forEach(function(callback) { callback() });\n",
       "    }\n",
       "    finally {\n",
       "      delete root._bokeh_onload_callbacks\n",
       "    }\n",
       "    console.info(\"Bokeh: all callbacks have finished\");\n",
       "  }\n",
       "\n",
       "  function load_libs(js_urls, callback) {\n",
       "    root._bokeh_onload_callbacks.push(callback);\n",
       "    if (root._bokeh_is_loading > 0) {\n",
       "      console.log(\"Bokeh: BokehJS is being loaded, scheduling callback at\", now());\n",
       "      return null;\n",
       "    }\n",
       "    if (js_urls == null || js_urls.length === 0) {\n",
       "      run_callbacks();\n",
       "      return null;\n",
       "    }\n",
       "    console.log(\"Bokeh: BokehJS not loaded, scheduling load and callback at\", now());\n",
       "    root._bokeh_is_loading = js_urls.length;\n",
       "    for (var i = 0; i < js_urls.length; i++) {\n",
       "      var url = js_urls[i];\n",
       "      var s = document.createElement('script');\n",
       "      s.src = url;\n",
       "      s.async = false;\n",
       "      s.onreadystatechange = s.onload = function() {\n",
       "        root._bokeh_is_loading--;\n",
       "        if (root._bokeh_is_loading === 0) {\n",
       "          console.log(\"Bokeh: all BokehJS libraries loaded\");\n",
       "          run_callbacks()\n",
       "        }\n",
       "      };\n",
       "      s.onerror = function() {\n",
       "        console.warn(\"failed to load library \" + url);\n",
       "      };\n",
       "      console.log(\"Bokeh: injecting script tag for BokehJS library: \", url);\n",
       "      document.getElementsByTagName(\"head\")[0].appendChild(s);\n",
       "    }\n",
       "  };var element = document.getElementById(\"883f9412-3ab9-402c-830c-a7a456de00c3\");\n",
       "  if (element == null) {\n",
       "    console.log(\"Bokeh: ERROR: autoload.js configured with elementid '883f9412-3ab9-402c-830c-a7a456de00c3' but no matching script tag was found. \")\n",
       "    return false;\n",
       "  }\n",
       "\n",
       "  var js_urls = [\"https://cdn.pydata.org/bokeh/release/bokeh-0.12.5.min.js\", \"https://cdn.pydata.org/bokeh/release/bokeh-widgets-0.12.5.min.js\"];\n",
       "\n",
       "  var inline_js = [\n",
       "    function(Bokeh) {\n",
       "      Bokeh.set_log_level(\"info\");\n",
       "    },\n",
       "    \n",
       "    function(Bokeh) {\n",
       "      \n",
       "    },\n",
       "    \n",
       "    function(Bokeh) {\n",
       "      \n",
       "      document.getElementById(\"883f9412-3ab9-402c-830c-a7a456de00c3\").textContent = \"BokehJS is loading...\";\n",
       "    },\n",
       "    function(Bokeh) {\n",
       "      console.log(\"Bokeh: injecting CSS: https://cdn.pydata.org/bokeh/release/bokeh-0.12.5.min.css\");\n",
       "      Bokeh.embed.inject_css(\"https://cdn.pydata.org/bokeh/release/bokeh-0.12.5.min.css\");\n",
       "      console.log(\"Bokeh: injecting CSS: https://cdn.pydata.org/bokeh/release/bokeh-widgets-0.12.5.min.css\");\n",
       "      Bokeh.embed.inject_css(\"https://cdn.pydata.org/bokeh/release/bokeh-widgets-0.12.5.min.css\");\n",
       "    }\n",
       "  ];\n",
       "\n",
       "  function run_inline_js() {\n",
       "    \n",
       "    if ((window.Bokeh !== undefined) || (force === true)) {\n",
       "      for (var i = 0; i < inline_js.length; i++) {\n",
       "        inline_js[i](window.Bokeh);\n",
       "      }if (force === true) {\n",
       "        display_loaded();\n",
       "      }} else if (Date.now() < window._bokeh_timeout) {\n",
       "      setTimeout(run_inline_js, 100);\n",
       "    } else if (!window._bokeh_failed_load) {\n",
       "      console.log(\"Bokeh: BokehJS failed to load within specified timeout.\");\n",
       "      window._bokeh_failed_load = true;\n",
       "    } else if (force !== true) {\n",
       "      var cell = $(document.getElementById(\"883f9412-3ab9-402c-830c-a7a456de00c3\")).parents('.cell').data().cell;\n",
       "      cell.output_area.append_execute_result(NB_LOAD_WARNING)\n",
       "    }\n",
       "\n",
       "  }\n",
       "\n",
       "  if (root._bokeh_is_loading === 0) {\n",
       "    console.log(\"Bokeh: BokehJS loaded, going straight to plotting\");\n",
       "    run_inline_js();\n",
       "  } else {\n",
       "    load_libs(js_urls, function() {\n",
       "      console.log(\"Bokeh: BokehJS plotting callback run at\", now());\n",
       "      run_inline_js();\n",
       "    });\n",
       "  }\n",
       "}(window));"
      ]
     },
     "metadata": {},
     "output_type": "display_data"
    }
   ],
   "source": [
    "from bokeh.io import push_notebook, show, output_notebook\n",
    "from bokeh.models import Range1d,Slider\n",
    "from ipywidgets import interact, widgets, FloatSlider\n",
    "import bokeh.plotting as bk\n",
    "bk.output_notebook()"
   ]
  },
  {
   "cell_type": "code",
   "execution_count": 18,
   "metadata": {},
   "outputs": [
    {
     "ename": "ImportError",
     "evalue": "cannot import name 'vform'",
     "output_type": "error",
     "traceback": [
      "\u001b[1;31m---------------------------------------------------------------------------\u001b[0m",
      "\u001b[1;31mImportError\u001b[0m                               Traceback (most recent call last)",
      "\u001b[1;32m<ipython-input-18-f35abdca1547>\u001b[0m in \u001b[0;36m<module>\u001b[1;34m()\u001b[0m\n\u001b[1;32m----> 1\u001b[1;33m \u001b[1;32mfrom\u001b[0m \u001b[0mbokeh\u001b[0m\u001b[1;33m.\u001b[0m\u001b[0mio\u001b[0m \u001b[1;32mimport\u001b[0m \u001b[0mvform\u001b[0m\u001b[1;33m\u001b[0m\u001b[0m\n\u001b[0m\u001b[0;32m      2\u001b[0m \u001b[1;32mfrom\u001b[0m \u001b[0mbokeh\u001b[0m\u001b[1;33m.\u001b[0m\u001b[0mmodels\u001b[0m \u001b[1;32mimport\u001b[0m \u001b[0mCustomJS\u001b[0m\u001b[1;33m,\u001b[0m \u001b[0mColumnDataSource\u001b[0m\u001b[1;33m,\u001b[0m \u001b[0mSlider\u001b[0m\u001b[1;33m\u001b[0m\u001b[0m\n\u001b[0;32m      3\u001b[0m \u001b[1;32mfrom\u001b[0m \u001b[0mbokeh\u001b[0m\u001b[1;33m.\u001b[0m\u001b[0mplotting\u001b[0m \u001b[1;32mimport\u001b[0m \u001b[0mFigure\u001b[0m\u001b[1;33m,\u001b[0m \u001b[0moutput_file\u001b[0m\u001b[1;33m,\u001b[0m \u001b[0mshow\u001b[0m\u001b[1;33m\u001b[0m\u001b[0m\n\u001b[0;32m      4\u001b[0m \u001b[1;33m\u001b[0m\u001b[0m\n\u001b[0;32m      5\u001b[0m \u001b[0moutput_file\u001b[0m\u001b[1;33m(\u001b[0m\u001b[1;34m'image.html'\u001b[0m\u001b[1;33m)\u001b[0m\u001b[1;33m\u001b[0m\u001b[0m\n",
      "\u001b[1;31mImportError\u001b[0m: cannot import name 'vform'"
     ]
    }
   ],
   "source": [
    "from bokeh.io import vform\n",
    "from bokeh.models import CustomJS, ColumnDataSource, Slider\n",
    "from bokeh.plotting import Figure, output_file, show\n",
    "\n",
    "output_file('image.html')\n",
    "\n",
    "source = ColumnDataSource(data=dict(url=['d_100_nc_55.png']))\n",
    "\n",
    "p = Figure(x_range=(0,1), y_range=(0,1))\n",
    "\n",
    "callback_nc = CustomJS(args=dict(source=source),  code=\"\"\"\n",
    "    var data = source.get('data');\n",
    "    var f = cb_obj.get('value')\n",
    "    old = data['url'][0]\n",
    "    to_replace=old.substring(old.lastIndexOf(\"nc_\")+3,old.lastIndexOf(\".png\"))\n",
    "\n",
    "    data['url'][0] = old.replace(to_replace,f.toString(10))\n",
    "    source.trigger('change');\n",
    "\"\"\")\n",
    "\n",
    "callback_d = CustomJS(args=dict(source=source), code=\"\"\"\n",
    "    var data = source.get('data');\n",
    "    var f = cb_obj.get('value')\n",
    "    old = data['url'][0]\n",
    "    to_replace=old.substring(old.lastIndexOf(\"d_\")+2,old.lastIndexOf(\"_nc_\"))\n",
    "\n",
    "    data['url'][0] = old.replace(to_replace,f.toString(10))\n",
    "    source.trigger('change');\n",
    "\"\"\")\n",
    "\n",
    "p.image_url('url',source=source, x=0, y=1,w=1,h=1)\n",
    "p.text(x=0,y=0,text=source.data['url'])\n",
    "slider_nc = Slider(start=55, end=65, value=1, step=1, title=\"nc\", callback=callback_nc)\n",
    "slider_d = Slider(start=20, end=100, value=100, step=80, title=\"density\", callback=callback_d)\n",
    "\n",
    "layout = vform(slider_nc,slider_d, p)\n",
    "show(layout)"
   ]
  },
  {
   "cell_type": "code",
   "execution_count": 9,
   "metadata": {
    "scrolled": false
   },
   "outputs": [
    {
     "data": {
      "text/html": [
       "\n",
       "\n",
       "    <div class=\"bk-root\">\n",
       "        <div class=\"bk-plotdiv\" id=\"858ae80e-6f91-4fa4-95ac-0ce8d1826b09\"></div>\n",
       "    </div>\n",
       "<script type=\"text/javascript\">\n",
       "  \n",
       "  (function(global) {\n",
       "    function now() {\n",
       "      return new Date();\n",
       "    }\n",
       "  \n",
       "    var force = false;\n",
       "  \n",
       "    if (typeof (window._bokeh_onload_callbacks) === \"undefined\" || force === true) {\n",
       "      window._bokeh_onload_callbacks = [];\n",
       "      window._bokeh_is_loading = undefined;\n",
       "    }\n",
       "  \n",
       "  \n",
       "    \n",
       "    if (typeof (window._bokeh_timeout) === \"undefined\" || force === true) {\n",
       "      window._bokeh_timeout = Date.now() + 0;\n",
       "      window._bokeh_failed_load = false;\n",
       "    }\n",
       "  \n",
       "    var NB_LOAD_WARNING = {'data': {'text/html':\n",
       "       \"<div style='background-color: #fdd'>\\n\"+\n",
       "       \"<p>\\n\"+\n",
       "       \"BokehJS does not appear to have successfully loaded. If loading BokehJS from CDN, this \\n\"+\n",
       "       \"may be due to a slow or bad network connection. Possible fixes:\\n\"+\n",
       "       \"</p>\\n\"+\n",
       "       \"<ul>\\n\"+\n",
       "       \"<li>re-rerun `output_notebook()` to attempt to load from CDN again, or</li>\\n\"+\n",
       "       \"<li>use INLINE resources instead, as so:</li>\\n\"+\n",
       "       \"</ul>\\n\"+\n",
       "       \"<code>\\n\"+\n",
       "       \"from bokeh.resources import INLINE\\n\"+\n",
       "       \"output_notebook(resources=INLINE)\\n\"+\n",
       "       \"</code>\\n\"+\n",
       "       \"</div>\"}};\n",
       "  \n",
       "    function display_loaded() {\n",
       "      if (window.Bokeh !== undefined) {\n",
       "        var el = document.getElementById(\"858ae80e-6f91-4fa4-95ac-0ce8d1826b09\");\n",
       "        el.textContent = \"BokehJS \" + Bokeh.version + \" successfully loaded.\";\n",
       "      } else if (Date.now() < window._bokeh_timeout) {\n",
       "        setTimeout(display_loaded, 100)\n",
       "      }\n",
       "    }if ((window.Jupyter !== undefined) && Jupyter.notebook.kernel) {\n",
       "      comm_manager = Jupyter.notebook.kernel.comm_manager\n",
       "      comm_manager.register_target(\"70e3efb4-9287-4a8e-ac4b-f5b423e64d59\", function () {});\n",
       "    }\n",
       "  \n",
       "    function run_callbacks() {\n",
       "      window._bokeh_onload_callbacks.forEach(function(callback) { callback() });\n",
       "      delete window._bokeh_onload_callbacks\n",
       "      console.info(\"Bokeh: all callbacks have finished\");\n",
       "    }\n",
       "  \n",
       "    function load_libs(js_urls, callback) {\n",
       "      window._bokeh_onload_callbacks.push(callback);\n",
       "      if (window._bokeh_is_loading > 0) {\n",
       "        console.log(\"Bokeh: BokehJS is being loaded, scheduling callback at\", now());\n",
       "        return null;\n",
       "      }\n",
       "      if (js_urls == null || js_urls.length === 0) {\n",
       "        run_callbacks();\n",
       "        return null;\n",
       "      }\n",
       "      console.log(\"Bokeh: BokehJS not loaded, scheduling load and callback at\", now());\n",
       "      window._bokeh_is_loading = js_urls.length;\n",
       "      for (var i = 0; i < js_urls.length; i++) {\n",
       "        var url = js_urls[i];\n",
       "        var s = document.createElement('script');\n",
       "        s.src = url;\n",
       "        s.async = false;\n",
       "        s.onreadystatechange = s.onload = function() {\n",
       "          window._bokeh_is_loading--;\n",
       "          if (window._bokeh_is_loading === 0) {\n",
       "            console.log(\"Bokeh: all BokehJS libraries loaded\");\n",
       "            run_callbacks()\n",
       "          }\n",
       "        };\n",
       "        s.onerror = function() {\n",
       "          console.warn(\"failed to load library \" + url);\n",
       "        };\n",
       "        console.log(\"Bokeh: injecting script tag for BokehJS library: \", url);\n",
       "        document.getElementsByTagName(\"head\")[0].appendChild(s);\n",
       "      }\n",
       "    };var element = document.getElementById(\"858ae80e-6f91-4fa4-95ac-0ce8d1826b09\");\n",
       "    if (element == null) {\n",
       "      console.log(\"Bokeh: ERROR: autoload.js configured with elementid '858ae80e-6f91-4fa4-95ac-0ce8d1826b09' but no matching script tag was found. \")\n",
       "      return false;\n",
       "    }\n",
       "  \n",
       "    var js_urls = [];\n",
       "  \n",
       "    var inline_js = [\n",
       "      function(Bokeh) {\n",
       "        (function() {\n",
       "          var fn = function() {\n",
       "            var docs_json = {\"506c81a6-196a-4edc-aac1-953181d470f7\":{\"roots\":{\"references\":[{\"attributes\":{\"line_alpha\":{\"value\":0.2},\"line_color\":{\"value\":\"red\"},\"line_width\":{\"value\":2},\"x\":{\"field\":\"x\"},\"y\":{\"field\":\"y\"}},\"id\":\"5d9ca177-22f5-4442-8754-be2dea3e7ad6\",\"type\":\"Line\"},{\"attributes\":{\"label\":{\"value\":\"Q1\"},\"renderers\":[{\"id\":\"d8e74c02-7b5e-4dcf-87f8-4ee76b41cb25\",\"type\":\"GlyphRenderer\"}]},\"id\":\"c6b1f4e1-76dc-4ecd-aa66-35cc41430e3c\",\"type\":\"LegendItem\"},{\"attributes\":{\"callback\":null,\"column_names\":[\"x\",\"y\"],\"data\":{\"x\":{\"__ndarray__\":\"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\",\"dtype\":\"float64\",\"shape\":[200]},\"y\":{\"__ndarray__\":\"mpmZmZmZ2T+amZmZmZnZP5qZmZmZmdk/mpmZmZmZ2T+amZmZmZnZP5qZmZmZmdk/mpmZmZmZ2T+amZmZmZnZP5qZmZmZmdk/mpmZmZmZ2T+amZmZmZnZP5qZmZmZmdk/mpmZmZmZ2T+amZmZmZnZP5qZmZmZmdk/mpmZmZmZ2T+amZmZmZnZP5qZmZmZmdk/mpmZmZmZ2T+amZmZmZnZP5qZmZmZmdk/mpmZmZmZ2T+amZmZmZnZP5qZmZmZmdk/mpmZmZmZ2T+amZmZmZnZP5qZmZmZmdk/mpmZmZmZ2T+amZmZmZnZP5qZmZmZmdk/mpmZmZmZ2T+amZmZmZnZP5qZmZmZmdk/mpmZmZmZ2T+amZmZmZnZP5qZmZmZmdk/mpmZmZmZ2T+amZmZmZnZP5qZmZmZmdk/mpmZmZmZ2T+amZmZmZnZP5qZmZmZmdk/mpmZmZmZ2T+amZmZmZnZP5qZmZmZmdk/mpmZmZmZ2T+amZmZmZnZP5qZmZmZmdk/mpmZmZmZ2T+amZmZmZnZP5qZmZmZmdk/mpmZmZmZ2T+amZmZmZnZP5qZmZmZmdk/mpmZmZmZ2T+amZmZmZnZP5qZmZmZmdk/mpmZmZmZ2T+amZmZmZnZP5qZmZmZmdk/mpmZmZmZ2T+amZmZmZnZP5qZmZmZmdk/mpmZmZmZ2T+amZmZmZnZP5qZmZmZmdk/mpmZmZmZ2T+amZmZmZnZP5qZmZmZmdk/mpmZmZmZ2T+amZmZmZnZP5qZmZmZmdk/mpmZmZmZ2T+amZmZmZnZP5qZmZmZmdk/mpmZmZmZ2T+amZmZmZnZP5qZmZmZmdk/mpmZmZmZ2T+amZmZmZnZP5qZmZmZmdk/mpmZmZmZ2T+amZmZmZnZP5qZmZmZmdk/mpmZmZmZ2T+amZmZmZnZP5qZmZmZmdk/mpmZmZmZ2T+amZmZmZnZP5qZmZmZmdk/mpmZmZmZ2T+amZmZmZnZP5qZmZmZmdk/mpmZmZmZ2T+amZmZmZnZP5qZmZmZmdk/mpmZmZmZ2T+amZmZmZnZP5qZmZmZmdk/mpmZmZmZ2T9qOX+W82fZPw5HTHsiA9k/+vWWOj2c2D80MzMzMzPYPxgWtRDzx9c/uAjowWpa1z/sdqhuh+rWP+gIFG01eNY/NmADNmAD1j+MJb9Y8ovVP1Dv4G3VEdU/liBPCfKU1D/8UkGrLxXUP0wnObB0ktM/DHPZP6YM0z86qIM6qIPSP6AAoSVd99E/aGF6FqZn0T9GDX+bYtTQPzwK16NwPdA/8CQ1ylhFzz+A4Ad+4AfOPwxv2Tkpwsw/QLfEqd9zyz/oJjEIrBzKP8CL89AxvMg/JHUdbg9Sxz/g3d3d3d3FP4AlxFAwX8Q/jGCiv5PVwj8QbTV4jkDBP0g/Pz8/P78/YKdLU33kuz9wWPuGtW+4PyiBrGG037Q/KDMzMzMzsT8wrdEardGqPxCT5S9Z/qI/YLWo56zSlT8AFK5H4Xp0PwA317hdTIi/QDjg8YcDnr8AhJF2rECov6AO6qAO6rC/4JUFXlngtb9gsAVbsAW7v1Bo9KteLsC/QC/0Qi/0wr/Y1dXV1dXFv6hFtvP91Mi/0OPOEnbzy79AMzMzMzPPv5DuL3wqS9G/MO7XJZUP07/otIFOG+jUv9i+Ye0b1ta/cLGNnxbb2L+Ir/iKr/javzA9C9OzMN2/iOtRuB6F37/ED/zAD/zgv2akHSsQRuK/HDqGF+eh478QERERERHlv7rPLiA2lea/NDAwMDAw6L/qKUGeEuTpvzAzMzMzs+u/nk0D2jSg7b+wR+F6FK7vv8YBjz8c8PC/2EEd1EEd8r8ItmALtmDzv9ALvdALvfS/apHtfD819r/QzMzMzMz3vx7365LKh/m/Zt+w9g1r+7/EV3zFV3z9v8T1KFyPwv+/M9KOFQgjAcCNiIiIiIgCwBQYGBgYGATAmJmZmZnZBcDYo3A9CtcHwNhBHdRBHQrA2Au90Au9DMDGzMzMzMwPwLNvWPuGtRHA4noUrkfhE8CNiIiIiIgWwKOZmZmZ2RnAyEEd1EEdHsBjZmZmZuYhwOJ6FK5H4SXAo5mZmZnZK8B3ZmZmZuYywNKZmZmZ2TzAdZmZmZlZTcAAAAAAAADw/w==\",\"dtype\":\"float64\",\"shape\":[200]}}},\"id\":\"85b7e050-f086-4569-a69d-0573115527dc\",\"type\":\"ColumnDataSource\"},{\"attributes\":{\"overlay\":{\"id\":\"037f30eb-a958-4acb-a911-123fff78e0b9\",\"type\":\"BoxAnnotation\"},\"plot\":{\"id\":\"0ccf1e67-6ec4-439f-ae6a-9689d6d1dcf5\",\"subtype\":\"Figure\",\"type\":\"Plot\"}},\"id\":\"e95f2630-2099-429e-95f5-330d04ada0ce\",\"type\":\"BoxZoomTool\"},{\"attributes\":{\"below\":[{\"id\":\"6b7418ea-adf3-49d0-8a40-5ac9c74695ef\",\"type\":\"LinearAxis\"}],\"left\":[{\"id\":\"591252a6-da5b-4c86-806b-1ad9b29bffd5\",\"type\":\"LinearAxis\"}],\"plot_height\":250,\"renderers\":[{\"id\":\"6b7418ea-adf3-49d0-8a40-5ac9c74695ef\",\"type\":\"LinearAxis\"},{\"id\":\"c23b8de4-ed00-442a-8723-08939516b9e0\",\"type\":\"Grid\"},{\"id\":\"591252a6-da5b-4c86-806b-1ad9b29bffd5\",\"type\":\"LinearAxis\"},{\"id\":\"cc35fe06-e85f-4743-abff-80e172532503\",\"type\":\"Grid\"},{\"id\":\"037f30eb-a958-4acb-a911-123fff78e0b9\",\"type\":\"BoxAnnotation\"},{\"id\":\"1cc751ad-2bd9-404a-bd2e-edffea8b4819\",\"type\":\"Legend\"},{\"id\":\"d8e74c02-7b5e-4dcf-87f8-4ee76b41cb25\",\"type\":\"GlyphRenderer\"},{\"id\":\"93ea2af5-2c17-4264-b52d-f8375eee6d81\",\"type\":\"GlyphRenderer\"},{\"id\":\"b32131e4-7f2a-40c6-8959-c3afb4fc49ac\",\"type\":\"GlyphRenderer\"},{\"id\":\"b07a0984-5701-476d-a863-1831779d901e\",\"type\":\"GlyphRenderer\"}],\"title\":{\"id\":\"cfc7e6aa-363a-43d1-a713-ac8c72d2832b\",\"type\":\"Title\"},\"tool_events\":{\"id\":\"b2a5f114-b653-4352-8842-6658620ad5f7\",\"type\":\"ToolEvents\"},\"toolbar\":{\"id\":\"fd6254d5-9909-4a32-b4ba-0462eee5c1ba\",\"type\":\"Toolbar\"},\"x_range\":{\"id\":\"ef1da0f9-11fa-4adc-9f53-c2260785f28b\",\"type\":\"DataRange1d\"},\"y_range\":{\"id\":\"b9532dc4-80e9-4dff-b5fb-4ead9de4ccbf\",\"type\":\"Range1d\"}},\"id\":\"0ccf1e67-6ec4-439f-ae6a-9689d6d1dcf5\",\"subtype\":\"Figure\",\"type\":\"Plot\"},{\"attributes\":{\"callback\":null},\"id\":\"ef1da0f9-11fa-4adc-9f53-c2260785f28b\",\"type\":\"DataRange1d\"},{\"attributes\":{\"plot\":{\"id\":\"0ccf1e67-6ec4-439f-ae6a-9689d6d1dcf5\",\"subtype\":\"Figure\",\"type\":\"Plot\"}},\"id\":\"568ef4dc-4087-46d7-9535-dce3b680a268\",\"type\":\"PanTool\"},{\"attributes\":{\"callback\":null},\"id\":\"b9532dc4-80e9-4dff-b5fb-4ead9de4ccbf\",\"type\":\"Range1d\"},{\"attributes\":{},\"id\":\"ebd3ee58-7593-42d5-be3d-e92922910889\",\"type\":\"BasicTickFormatter\"},{\"attributes\":{\"active_drag\":\"auto\",\"active_scroll\":\"auto\",\"active_tap\":\"auto\",\"tools\":[{\"id\":\"568ef4dc-4087-46d7-9535-dce3b680a268\",\"type\":\"PanTool\"},{\"id\":\"b1143368-36c3-46bb-bbb1-7abe53fe0ba4\",\"type\":\"WheelZoomTool\"},{\"id\":\"e95f2630-2099-429e-95f5-330d04ada0ce\",\"type\":\"BoxZoomTool\"},{\"id\":\"8766264f-b8c5-47d8-ad56-9692e20bbafe\",\"type\":\"SaveTool\"},{\"id\":\"136018a7-7f9d-44e1-af03-cc1641228b9c\",\"type\":\"ResetTool\"},{\"id\":\"24fe9121-ce2c-40eb-9417-b0f84b74d996\",\"type\":\"HelpTool\"}]},\"id\":\"fd6254d5-9909-4a32-b4ba-0462eee5c1ba\",\"type\":\"Toolbar\"},{\"attributes\":{\"data_source\":{\"id\":\"85b7e050-f086-4569-a69d-0573115527dc\",\"type\":\"ColumnDataSource\"},\"glyph\":{\"id\":\"f895045d-bce9-46d2-8a4f-49d2abbc5f1e\",\"type\":\"Line\"},\"hover_glyph\":null,\"muted_glyph\":null,\"nonselection_glyph\":{\"id\":\"7a795459-aa18-4c32-8a68-4e702a59a691\",\"type\":\"Line\"},\"selection_glyph\":null},\"id\":\"d8e74c02-7b5e-4dcf-87f8-4ee76b41cb25\",\"type\":\"GlyphRenderer\"},{\"attributes\":{\"plot\":{\"id\":\"0ccf1e67-6ec4-439f-ae6a-9689d6d1dcf5\",\"subtype\":\"Figure\",\"type\":\"Plot\"}},\"id\":\"8766264f-b8c5-47d8-ad56-9692e20bbafe\",\"type\":\"SaveTool\"},{\"attributes\":{\"callback\":null,\"column_names\":[\"x\",\"y\"],\"data\":{\"x\":{\"__ndarray__\":\"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\",\"dtype\":\"float64\",\"shape\":[200]},\"y\":{\"__ndarray__\":\"AAAAAAAAAAAAAAAAAAAAAAAAAAAAAAAAAAAAAAAAAAAAAAAAAAAAAAAAAAAAAAAAAAAAAAAAAAAAAAAAAAAAAAAAAAAAAAAAAAAAAAAAAAAAAAAAAAAAAAAAAAAAAAAAAAAAAAAAAAAAAAAAAAAAAAAAAAAAAAAAAAAAAAAAAAAAAAAAAAAAAAAAAAAAAAAAAAAAAAAAAAAAAAAAAAAAAAAAAAAAAAAAAAAAAAAAAAAAAAAAAAAAAAAAAAAAAAAAAAAAAAAAAAAAAAAAAAAAAAAAAAAAAAAAAAAAAAAAAAAAAAAAAAAAAAAAAAAAAAAAAAAAAAAAAAAAAAAAAAAAAAAAAAAAAAAAAAAAAAAAAAAAAAAAAAAAAAAAAAAAAAAAAAAAAAAAAAAAAAAAAAAAAAAAAAAAAAAAAAAAAAAAAAAAAAAAAAAAAAAAAAAAAAAAAAAAAAAAAAAAAAAAAAAAAAAAAAAAAAAAAAAAAAAAAAAAAAAAAAAAAAAAAAAAAAAAAAAAAAAAAAAAAAAAAAAAAAAAAAAAAAAAAAAAAAAAAAAAAAAAAAAAAAAAAAAAAAAAAAAAAAAAAAAAAAAAAAAAAAAAAAAAAAAAAAAAAAAAAAAAAAAAAAAAAAAAAAAAAAAAAAAAAAAAAAAAAAAAAAAAAAAAAAAAAAAAAAAAAAAAAAAAAAAAAAAAAAAAAAAAAAAAAAAAAAAAAAAAAAAAAAAAAAAAAAAAAAAAAAAAAAAAAAAAAAAAAAAAAAAAAAAAAAAAAAAAAAAAAAAAAAAAAAAAAAAAAAAAAAAAAAAAAAAAAAAAAAAAAAAAAAAAAAAAAAAAAAAAAAAAAAAAAAAAAAAAAAAAAAAAAAAAAAAAAAAAAAAAAAAAAAAAAAAAAAAAAAAAAAAAAAAAAAAAAAAAAAAAAAAAAAAAAAAAAAAAAAAAAAAAAAAAAAAAAAAAAAAAAAAAAAAAAAAAAAAAAAAAAAAAAAAAAAAAAAAAAAAAAAAAAAAAAAAAAAAAAAAAAAAAAAAAAAAAAAAAAAAAAAAAAAAAAAAAAAAAAAAAAAAAAAAAAAAAS80kO7N4P0BxDqxhh5I/AEk5/9Tknj/wC/iviqOlP8DwbvQI2Ks/2F04TW8IsT/4u2mZgye0PzB8zovASbc/AKdv+qZvuj9wpqKquZm9P+y7vMw+ZMA/VHFZIz3+wT9g1kIBHZvDP1CyUx8lO8U/aOl68Z3exj/MvRjT0YXIPzj7nzUNMco/MCi70Z7gyz/AKzvb15TNPwjZGjgMTs8/ssl0XUmG0D9DbXuwYmjRPyWOUMqATdI/UOUZOtQ10z+9xeWOjyHUP87FYYDnENU/QGCeGhME1j++tC/tS/vWP6dTBD7O9tc/7elUQNn22D+f2RpQr/vZP5qEiDKWBds/NoEMXNcU3D8/Xnk8wCndP6JU/pGiRN4/lKGyw9Rl3z8h2UYi2UbgP0Ij4f9N3uA/+GfJZ3x54T8IJO3/mhjiP+6o1+7ju+I//1ncKpVj4z/wnIHR8A/kP6CaNYg9weQ/eG5858Z35T/xTvTx3TPmP7jIwJjZ9eY/Ks4rTxe+5z/u5pOv+4zoP8ZlFDTzYuk/0t25BXNA6j+4ZI3l+SXrPzCOUDMRFOw/nHpvFk4L7T9WCHzOUgzuPxkDfTHQF+8/ZOrDr0MX8D9kjUPapajwP5shZoGCQPE/ifaUEVnf8T8q6fj0tYXyPzBBtkk0NPM/t/4y33/r8z/+HjiIV6z0Pwq05tKPd/U/UPp3OxZO9j8JtdTz9DD3P2Ipk2BXIfg/1htSdI8g+T9WjlMdHDD6PygwigexUfs/eGg2CECH/D/y2mehBNP9PzP+qi2SN/8/5d0qufJbAEAF3DBLvSsBQJjtCmo0DQJAodIa3MICA0DXOpw5SQ8EQNRKbGE7NgVAjMQaO8d7BkBxWlNkCOUHQBdOeBtOeAlAEQo0Yns9C0Bm5EGUjT4NQPC+iaxciA9Ao8nTI9oVEUAcq9mTfJ8SQPmvZ1FacBRAqwbRdtOdFkA+MQ4hyEYZQJacqHGImRxAsW3btm1vIEB5L+ldBkgjQLrW/qK4QydApAwwZ9k8LUAF/1yrbJgzQAIirjIFjD1ArhgwjQGzTUAAAAAAAADwfw==\",\"dtype\":\"float64\",\"shape\":[200]}}},\"id\":\"8ca167df-da13-4abb-ac0a-3c352dab7364\",\"type\":\"ColumnDataSource\"},{\"attributes\":{\"formatter\":{\"id\":\"ebd3ee58-7593-42d5-be3d-e92922910889\",\"type\":\"BasicTickFormatter\"},\"plot\":{\"id\":\"0ccf1e67-6ec4-439f-ae6a-9689d6d1dcf5\",\"subtype\":\"Figure\",\"type\":\"Plot\"},\"ticker\":{\"id\":\"7f568734-c1c8-400c-a221-06f6d3dd0e48\",\"type\":\"BasicTicker\"}},\"id\":\"591252a6-da5b-4c86-806b-1ad9b29bffd5\",\"type\":\"LinearAxis\"},{\"attributes\":{\"line_alpha\":{\"value\":0.1},\"line_color\":{\"value\":\"#1f77b4\"},\"line_width\":{\"value\":2},\"x\":{\"field\":\"x\"},\"y\":{\"field\":\"y\"}},\"id\":\"136b9240-0a64-4c16-bbb2-13423328a4a1\",\"type\":\"Line\"},{\"attributes\":{\"click_policy\":\"hide\",\"items\":[{\"id\":\"c6b1f4e1-76dc-4ecd-aa66-35cc41430e3c\",\"type\":\"LegendItem\"},{\"id\":\"d3516d21-e11a-425f-acfb-6d6183be14c7\",\"type\":\"LegendItem\"},{\"id\":\"af3cbdaf-65ac-446a-9884-1e8119fdc733\",\"type\":\"LegendItem\"}],\"plot\":{\"id\":\"0ccf1e67-6ec4-439f-ae6a-9689d6d1dcf5\",\"subtype\":\"Figure\",\"type\":\"Plot\"}},\"id\":\"1cc751ad-2bd9-404a-bd2e-edffea8b4819\",\"type\":\"Legend\"},{\"attributes\":{},\"id\":\"b2a5f114-b653-4352-8842-6658620ad5f7\",\"type\":\"ToolEvents\"},{\"attributes\":{\"line_alpha\":{\"value\":0.8},\"line_color\":{\"value\":\"green\"},\"line_width\":{\"value\":2},\"x\":{\"field\":\"x\"},\"y\":{\"field\":\"y\"}},\"id\":\"f895045d-bce9-46d2-8a4f-49d2abbc5f1e\",\"type\":\"Line\"},{\"attributes\":{\"label\":{\"value\":\"Q2\"},\"renderers\":[{\"id\":\"93ea2af5-2c17-4264-b52d-f8375eee6d81\",\"type\":\"GlyphRenderer\"}]},\"id\":\"d3516d21-e11a-425f-acfb-6d6183be14c7\",\"type\":\"LegendItem\"},{\"attributes\":{},\"id\":\"1b9a328e-905b-496f-9ca1-8b4b8829a40d\",\"type\":\"BasicTickFormatter\"},{\"attributes\":{\"plot\":{\"id\":\"0ccf1e67-6ec4-439f-ae6a-9689d6d1dcf5\",\"subtype\":\"Figure\",\"type\":\"Plot\"}},\"id\":\"24fe9121-ce2c-40eb-9417-b0f84b74d996\",\"type\":\"HelpTool\"},{\"attributes\":{\"bottom_units\":\"screen\",\"fill_alpha\":{\"value\":0.5},\"fill_color\":{\"value\":\"lightgrey\"},\"left_units\":\"screen\",\"level\":\"overlay\",\"line_alpha\":{\"value\":1.0},\"line_color\":{\"value\":\"black\"},\"line_dash\":[4,4],\"line_width\":{\"value\":2},\"plot\":null,\"render_mode\":\"css\",\"right_units\":\"screen\",\"top_units\":\"screen\"},\"id\":\"037f30eb-a958-4acb-a911-123fff78e0b9\",\"type\":\"BoxAnnotation\"},{\"attributes\":{},\"id\":\"8b856272-8013-429c-8c41-303dfd4b1475\",\"type\":\"BasicTicker\"},{\"attributes\":{\"angle\":{\"units\":\"rad\",\"value\":1.5707963267948966},\"length\":{\"units\":\"data\",\"value\":0},\"line_alpha\":{\"value\":0.1},\"line_color\":{\"value\":\"#1f77b4\"},\"x\":{\"field\":\"x\"},\"y\":{\"field\":\"y\"}},\"id\":\"40582379-47af-4002-9af8-0d36a517d116\",\"type\":\"Ray\"},{\"attributes\":{\"axis_label\":\"\\u03b8\",\"formatter\":{\"id\":\"1b9a328e-905b-496f-9ca1-8b4b8829a40d\",\"type\":\"BasicTickFormatter\"},\"plot\":{\"id\":\"0ccf1e67-6ec4-439f-ae6a-9689d6d1dcf5\",\"subtype\":\"Figure\",\"type\":\"Plot\"},\"ticker\":{\"id\":\"8b856272-8013-429c-8c41-303dfd4b1475\",\"type\":\"BasicTicker\"}},\"id\":\"6b7418ea-adf3-49d0-8a40-5ac9c74695ef\",\"type\":\"LinearAxis\"},{\"attributes\":{\"callback\":null,\"column_names\":[\"x\",\"y\"],\"data\":{\"x\":[0.7],\"y\":[0]}},\"id\":\"c07ec08b-2eaf-4958-b59e-2124285201e3\",\"type\":\"ColumnDataSource\"},{\"attributes\":{\"angle\":{\"units\":\"rad\",\"value\":1.5707963267948966},\"length\":{\"units\":\"data\",\"value\":0},\"line_color\":{\"value\":\"#1f77b4\"},\"x\":{\"field\":\"x\"},\"y\":{\"field\":\"y\"}},\"id\":\"2ef668f9-cff0-4fd9-8d74-d382dcbb6631\",\"type\":\"Ray\"},{\"attributes\":{\"plot\":{\"id\":\"0ccf1e67-6ec4-439f-ae6a-9689d6d1dcf5\",\"subtype\":\"Figure\",\"type\":\"Plot\"}},\"id\":\"b1143368-36c3-46bb-bbb1-7abe53fe0ba4\",\"type\":\"WheelZoomTool\"},{\"attributes\":{\"line_alpha\":{\"value\":0.1},\"line_color\":{\"value\":\"#1f77b4\"},\"line_width\":{\"value\":2},\"x\":{\"field\":\"x\"},\"y\":{\"field\":\"y\"}},\"id\":\"7a795459-aa18-4c32-8a68-4e702a59a691\",\"type\":\"Line\"},{\"attributes\":{\"line_alpha\":{\"value\":0.3},\"line_color\":{\"value\":\"navy\"},\"line_width\":{\"value\":2},\"x\":{\"field\":\"x\"},\"y\":{\"field\":\"y\"}},\"id\":\"5a1632b9-a0cd-4d8e-9fdb-0add87beca62\",\"type\":\"Line\"},{\"attributes\":{\"plot\":{\"id\":\"0ccf1e67-6ec4-439f-ae6a-9689d6d1dcf5\",\"subtype\":\"Figure\",\"type\":\"Plot\"},\"ticker\":{\"id\":\"8b856272-8013-429c-8c41-303dfd4b1475\",\"type\":\"BasicTicker\"}},\"id\":\"c23b8de4-ed00-442a-8723-08939516b9e0\",\"type\":\"Grid\"},{\"attributes\":{\"dimension\":1,\"plot\":{\"id\":\"0ccf1e67-6ec4-439f-ae6a-9689d6d1dcf5\",\"subtype\":\"Figure\",\"type\":\"Plot\"},\"ticker\":{\"id\":\"7f568734-c1c8-400c-a221-06f6d3dd0e48\",\"type\":\"BasicTicker\"}},\"id\":\"cc35fe06-e85f-4743-abff-80e172532503\",\"type\":\"Grid\"},{\"attributes\":{\"plot\":{\"id\":\"0ccf1e67-6ec4-439f-ae6a-9689d6d1dcf5\",\"subtype\":\"Figure\",\"type\":\"Plot\"}},\"id\":\"136018a7-7f9d-44e1-af03-cc1641228b9c\",\"type\":\"ResetTool\"},{\"attributes\":{\"plot\":null,\"text\":\"demand ~ price\"},\"id\":\"cfc7e6aa-363a-43d1-a713-ac8c72d2832b\",\"type\":\"Title\"},{\"attributes\":{\"data_source\":{\"id\":\"8ca167df-da13-4abb-ac0a-3c352dab7364\",\"type\":\"ColumnDataSource\"},\"glyph\":{\"id\":\"5a1632b9-a0cd-4d8e-9fdb-0add87beca62\",\"type\":\"Line\"},\"hover_glyph\":null,\"muted_glyph\":null,\"nonselection_glyph\":{\"id\":\"9cb68be1-430e-45ea-92bb-2e5072c6864b\",\"type\":\"Line\"},\"selection_glyph\":null},\"id\":\"93ea2af5-2c17-4264-b52d-f8375eee6d81\",\"type\":\"GlyphRenderer\"},{\"attributes\":{\"data_source\":{\"id\":\"aaa1e18f-9a0e-4cd4-961d-0394c42b0c8f\",\"type\":\"ColumnDataSource\"},\"glyph\":{\"id\":\"5d9ca177-22f5-4442-8754-be2dea3e7ad6\",\"type\":\"Line\"},\"hover_glyph\":null,\"muted_glyph\":null,\"nonselection_glyph\":{\"id\":\"136b9240-0a64-4c16-bbb2-13423328a4a1\",\"type\":\"Line\"},\"selection_glyph\":null},\"id\":\"b32131e4-7f2a-40c6-8959-c3afb4fc49ac\",\"type\":\"GlyphRenderer\"},{\"attributes\":{\"data_source\":{\"id\":\"c07ec08b-2eaf-4958-b59e-2124285201e3\",\"type\":\"ColumnDataSource\"},\"glyph\":{\"id\":\"2ef668f9-cff0-4fd9-8d74-d382dcbb6631\",\"type\":\"Ray\"},\"hover_glyph\":null,\"muted_glyph\":null,\"nonselection_glyph\":{\"id\":\"40582379-47af-4002-9af8-0d36a517d116\",\"type\":\"Ray\"},\"selection_glyph\":null},\"id\":\"b07a0984-5701-476d-a863-1831779d901e\",\"type\":\"GlyphRenderer\"},{\"attributes\":{\"callback\":null,\"column_names\":[\"x\",\"y\"],\"data\":{\"x\":{\"__ndarray__\":\"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\",\"dtype\":\"float64\",\"shape\":[200]},\"y\":{\"__ndarray__\":\"MzMzMzMz4z8zMzMzMzPjPzMzMzMzM+M/MzMzMzMz4z8zMzMzMzPjPzMzMzMzM+M/MzMzMzMz4z8zMzMzMzPjPzMzMzMzM+M/MzMzMzMz4z8zMzMzMzPjPzMzMzMzM+M/MzMzMzMz4z8zMzMzMzPjPzMzMzMzM+M/MzMzMzMz4z8zMzMzMzPjPzMzMzMzM+M/MzMzMzMz4z8zMzMzMzPjPzMzMzMzM+M/MzMzMzMz4z8zMzMzMzPjPzMzMzMzM+M/MzMzMzMz4z8zMzMzMzPjPzMzMzMzM+M/MzMzMzMz4z8zMzMzMzPjPzMzMzMzM+M/MzMzMzMz4z8zMzMzMzPjPzMzMzMzM+M/MzMzMzMz4z8zMzMzMzPjPzMzMzMzM+M/MzMzMzMz4z8zMzMzMzPjPzMzMzMzM+M/MzMzMzMz4z8zMzMzMzPjPzMzMzMzM+M/MzMzMzMz4z8zMzMzMzPjPzMzMzMzM+M/MzMzMzMz4z8zMzMzMzPjPzMzMzMzM+M/MzMzMzMz4z8zMzMzMzPjPzMzMzMzM+M/MzMzMzMz4z8zMzMzMzPjPzMzMzMzM+M/MzMzMzMz4z8zMzMzMzPjPzMzMzMzM+M/MzMzMzMz4z8zMzMzMzPjPzMzMzMzM+M/MzMzMzMz4z8zMzMzMzPjPzMzMzMzM+M/MzMzMzMz4z8zMzMzMzPjPzMzMzMzM+M/MzMzMzMz4z8zMzMzMzPjPzMzMzMzM+M/MzMzMzMz4z8zMzMzMzPjPzMzMzMzM+M/MzMzMzMz4z8zMzMzMzPjPzMzMzMzM+M/MzMzMzMz4z8zMzMzMzPjPzMzMzMzM+M/MzMzMzMz4z8zMzMzMzPjPzMzMzMzM+M/MzMzMzMz4z8zMzMzMzPjPzMzMzMzM+M/MzMzMzMz4z8zMzMzMzPjPzMzMzMzM+M/MzMzMzMz4z8zMzMzMzPjPzMzMzMzM+M/MzMzMzMz4z8zMzMzMzPjPzMzMzMzM+M/MzMzMzMz4z8zMzMzMzPjPzMzMzMzM+M/MzMzMzMz4z8zMzMzMzPjPzMzMzMzM+M/MzMzMzMz4z+1yHa+nxrjP+9o+bQz6uI/u7q6urq64j+n5Wa7LYziP+iFXuiFXuI/6e9ktbwx4j8LjX7VywXiPwYs/Det2uE/BVuwBVuw4T9sGEyez4bhP11Z4JUFXuE/YBOCsvc14T/qoA7qoA7hP8Z/DmD85+A/IIy0YwXC4D9w/Pdtt5zgP+KAxx8OeOA/QAVUQAVU4D9trnG7mDDgP6DEDaDEDeA/1qNwPQrX3z99ooAQrZPfP1W6wphqUd8/EL8D8TsQ3z/PpgFtGtDeP1J0JJf/kN4/LuVSLuVS3j9SXOEjxRXeP5mZmZmZ2d0/zeXZ31ye3T/Zb8pzCWTdP5Srp/2ZKt0/8pQgTwny3D+ly8dhUrrcPxSLllVwg9w/opGAb15N3D8YGBgYGBjcPxoHQdqY49s/u6TyYdyv2z+h/wZ73nzbP9xnFxCbSts/hk9lKQ4Z2z+g9s7rM+jaP2lOz5cIuNo/iIiIiIiI2j82ztgysFnaP7iieCR8K9o/THsiA+n92T8PHcOL89DZP0dXspGYpNk/Rbbz/dR42T8w0H7OpU3ZPzDSjhUII9k/+fj4+Pj42D89pImxdc/YP6a4Z4p7ptg/4Ad+4Ad+2D/3eeohGFbYP8S2cs2pLtg/YxH+cboH2D/hehSuR+HXPw1EYi9Pu9c/XXlAss6V1z8qpkEBxHDXP0zPwvQsTNc/J3eAcgco1z+wfy9tUQTXP9jAGeQI4dY/4yu+4iu+1j8KVnSAuJvWP3lGE+CsedY/gGWbLwdY1j9abOOnxTbWP3Q2SIzmFdY/glZfKmj11T8XU6zZSNXVP7VvWPuGtdU/kujs+SCW1T9XiA9JFXfVP26AQWViWNU/Om2g0wY61T/dcKkhARzVP+VP/uRP/tQ/OXwsu/Hg1D+M+3VJ5cPUPz8XnDwpp9Q/isSrSLyK1D9vtMsonW7UP6T7C5/KUtQ/dEM3dEM31D/zdKV3BhzUP9LQD38SAdQ/ZmZmZmbm0z8/3aYPAczTPwOFtGLhsdM/5p8xTQaY0z953FnCbn7TPwv03boZZdM/TGPANAZM0z8zMzMzMzPTPw==\",\"dtype\":\"float64\",\"shape\":[200]}}},\"id\":\"aaa1e18f-9a0e-4cd4-961d-0394c42b0c8f\",\"type\":\"ColumnDataSource\"},{\"attributes\":{},\"id\":\"7f568734-c1c8-400c-a221-06f6d3dd0e48\",\"type\":\"BasicTicker\"},{\"attributes\":{\"label\":{\"value\":\"Q0\"},\"renderers\":[{\"id\":\"b32131e4-7f2a-40c6-8959-c3afb4fc49ac\",\"type\":\"GlyphRenderer\"}]},\"id\":\"af3cbdaf-65ac-446a-9884-1e8119fdc733\",\"type\":\"LegendItem\"},{\"attributes\":{\"line_alpha\":{\"value\":0.1},\"line_color\":{\"value\":\"#1f77b4\"},\"line_width\":{\"value\":2},\"x\":{\"field\":\"x\"},\"y\":{\"field\":\"y\"}},\"id\":\"9cb68be1-430e-45ea-92bb-2e5072c6864b\",\"type\":\"Line\"}],\"root_ids\":[\"0ccf1e67-6ec4-439f-ae6a-9689d6d1dcf5\"]},\"title\":\"Bokeh Application\",\"version\":\"0.12.5\"}};\n",
       "            var render_items = [{\"docid\":\"506c81a6-196a-4edc-aac1-953181d470f7\",\"elementid\":\"858ae80e-6f91-4fa4-95ac-0ce8d1826b09\",\"modelid\":\"0ccf1e67-6ec4-439f-ae6a-9689d6d1dcf5\",\"notebook_comms_target\":\"70e3efb4-9287-4a8e-ac4b-f5b423e64d59\"}];\n",
       "            \n",
       "            Bokeh.embed.embed_items(docs_json, render_items);\n",
       "          };\n",
       "          if (document.readyState != \"loading\") fn();\n",
       "          else document.addEventListener(\"DOMContentLoaded\", fn);\n",
       "        })();\n",
       "      },\n",
       "      function(Bokeh) {\n",
       "      }\n",
       "    ];\n",
       "  \n",
       "    function run_inline_js() {\n",
       "      \n",
       "      if ((window.Bokeh !== undefined) || (force === true)) {\n",
       "        for (var i = 0; i < inline_js.length; i++) {\n",
       "          inline_js[i](window.Bokeh);\n",
       "        }if (force === true) {\n",
       "          display_loaded();\n",
       "        }} else if (Date.now() < window._bokeh_timeout) {\n",
       "        setTimeout(run_inline_js, 100);\n",
       "      } else if (!window._bokeh_failed_load) {\n",
       "        console.log(\"Bokeh: BokehJS failed to load within specified timeout.\");\n",
       "        window._bokeh_failed_load = true;\n",
       "      } else if (force !== true) {\n",
       "        var cell = $(document.getElementById(\"858ae80e-6f91-4fa4-95ac-0ce8d1826b09\")).parents('.cell').data().cell;\n",
       "        cell.output_area.append_execute_result(NB_LOAD_WARNING)\n",
       "      }\n",
       "  \n",
       "    }\n",
       "  \n",
       "    if (window._bokeh_is_loading === 0) {\n",
       "      console.log(\"Bokeh: BokehJS loaded, going straight to plotting\");\n",
       "      run_inline_js();\n",
       "    } else {\n",
       "      load_libs(js_urls, function() {\n",
       "        console.log(\"Bokeh: BokehJS plotting callback run at\", now());\n",
       "        run_inline_js();\n",
       "      });\n",
       "    }\n",
       "  }(this));\n",
       "</script>"
      ]
     },
     "metadata": {},
     "output_type": "display_data"
    },
    {
     "data": {
      "application/vnd.jupyter.widget-view+json": {
       "model_id": "8abb9244c2bc4da2bef4400d006763bd",
       "version_major": 2,
       "version_minor": 0
      },
      "text/html": [
       "<p>Failed to display Jupyter Widget of type <code>interactive</code>.</p>\n",
       "<p>\n",
       "  If you're reading this message in Jupyter Notebook or JupyterLab, it may mean\n",
       "  that the widgets JavaScript is still loading. If this message persists, it\n",
       "  likely means that the widgets JavaScript library is either not installed or\n",
       "  not enabled. See the <a href=\"https://ipywidgets.readthedocs.io/en/stable/user_install.html\">Jupyter\n",
       "  Widgets Documentation</a> for setup instructions.\n",
       "</p>\n",
       "<p>\n",
       "  If you're reading this message in another notebook frontend (for example, a static\n",
       "  rendering on GitHub or <a href=\"https://nbviewer.jupyter.org/\">NBViewer</a>),\n",
       "  it may mean that your frontend doesn't currently support widgets.\n",
       "</p>\n"
      ],
      "text/plain": [
       "interactive(children=(FloatSlider(value=0.6, description='P1 of Retailer 1:', max=1.0, step=0.01), FloatSlider(value=0.3, description='P2 of Retailer 2:', max=1.0, step=0.01), Output()), _dom_classes=('widget-interact',))"
      ]
     },
     "metadata": {},
     "output_type": "display_data"
    },
    {
     "data": {
      "text/plain": [
       "<function __main__.update>"
      ]
     },
     "execution_count": 9,
     "metadata": {},
     "output_type": "execute_result"
    }
   ],
   "source": [
    "x = np.linspace(0, 1, 200) #theta\n",
    "Q1_func = lambdify((p1,p2,s),plot_Q1,modules=[\"numpy\",\"sympy\"])\n",
    "Q2_func = lambdify((p1,p2,s),plot_Q2,modules=[\"numpy\",\"sympy\"])\n",
    "Q0_func = lambdify((p1,p2,s),plot_Q0,modules=[\"numpy\",\"sympy\"])\n",
    "p = bk.figure(title=\"demand ~ price\", plot_height=250, plot_width=600, y_range=(0,1))\n",
    "r1 = p.line(x, Q1_func(0.6,0.3,x),color=\"green\",line_width=2,alpha=0.8,legend='Q1')\n",
    "r2 = p.line(x, Q2_func(0.6,0.3,x),color=\"navy\",line_width=2,alpha=0.3,legend='Q2')\n",
    "r3 = p.line(x, Q0_func(0.6,0.3,x),color=\"red\",line_width=2,alpha=0.2,legend='Q0')\n",
    "r4 = p.ray(x=[0.7],y=[0],angle=np.pi/2,length=0)\n",
    "p.legend.location = \"top_right\"\n",
    "p.legend.click_policy=\"hide\"\n",
    "p.xaxis.axis_label = 'θ'\n",
    "def update(p1 = 0.6, p2 = 0.3):\n",
    "    r1.data_source.data['y'] = Q1_func(p1,p2,x)\n",
    "    r2.data_source.data['y'] = Q2_func(p1,p2,x)\n",
    "    r3.data_source.data['y'] = Q0_func(p1,p2,x)\n",
    "    r4.data_source.data['x'] = [1-(p1-p2)]\n",
    "    push_notebook()\n",
    "show(p, notebook_handle=True)\n",
    "interact(update, \n",
    "         p1=FloatSlider(min=0,max=1,step=0.01,value=0.6,description='P1 of Retailer 1:'),\n",
    "         p2=FloatSlider(min=0,max=1,step=0.01,value=0.3,description='P2 of Retailer 2:'))"
   ]
  },
  {
   "cell_type": "markdown",
   "metadata": {},
   "source": [
    "- 我觉得比较诡异的是：\n",
    "1. 当第二个商店越来越受欢迎的时候 (i.e., $\\theta \\rightarrow 1$), 只要$P_1$比$P_2$大一点点就存在第一个商店（更受欢迎）卖不出去一样东西\n",
    "2. 当$\\theta \\geq P_2/\\theta, \\text{ and } \\theta \\rightarrow 1$ 时，拒绝购买的人数减少。但是当$Q_1$降到0的时候，应该就是下降的顶峰了吧\n",
    "- 接下来研究当只有一个channel的时候最优决策产生的utility"
   ]
  },
  {
   "cell_type": "markdown",
   "metadata": {
    "collapsed": true
   },
   "source": [
    "## 只有一个零售渠道$R$，那么对于$R$来说，在给定进货价格$w$情况下，最大化利润函数\n",
    "\\begin{align*}\n",
    "\\pi_r =& (1-p_r)(p_r-w)\\\\ \n",
    "p_r^* =& \\frac{1+w}{2}  \n",
    "\\end{align*}\n",
    "\n",
    "## 所以对于供货商而言，在已知$p_r^*=\\frac{1+w}{2}$时，利润函数等于\n",
    "\\begin{align*}\n",
    "\\pi_m =& (1-p_r)(w-c) \\\\ \n",
    "=& (1-\\frac{1+w}{2})(w-c) \\\\\n",
    "w^* =& \\frac{1+c}{2} \\\\\n",
    "\\pi_m^*=&\\frac{(1-c)^2}{8}\n",
    "\\end{align*}"
   ]
  },
  {
   "cell_type": "markdown",
   "metadata": {},
   "source": [
    "# Introduce another channel with less reputation $R_2$ \n",
    "# case 1: no differentiation of wholesale price"
   ]
  },
  {
   "cell_type": "code",
   "execution_count": null,
   "metadata": {
    "collapsed": true
   },
   "outputs": [],
   "source": [
    "# scenario 1: when both R1 and R2 have demand (p1 and p2 do not differ too much or too little)\n",
    "# v2 < v1 <v12 ==> p1 > p2/theta\n",
    "U1 = (p1-w)*Q1_1; U2 = (p2-w)*Q2_1\n",
    "temp = solve([diff(U1, p1),diff(U2,p2)],[p1,p2])\n",
    "best_p1 = temp[p1]; best_p2 = temp[p2]\n",
    "# verify p1* - p2* / theta > 0\n"
   ]
  },
  {
   "cell_type": "markdown",
   "metadata": {},
   "source": [
    "## 如果$p_1$ 和 $p_2$差太多，那么$R_1$失去吸引力；如果差价太少，则$R_2$失去吸引力\n",
    "## 所以先考虑当两者差价刚刚好，保证两个渠道针对不同类型客户`unif(0,1)valuation`都能卖出东西的时候\n",
    "\n",
    "\\begin{align*}\n",
    "\\pi_1 =& (p_1-w)(1-\\frac{p_1-p_2}{1-\\theta}) \\\\\n",
    "\\pi_2 =& (p_2-w)(\\frac{p_1-p_2}{1-\\theta}-\\frac{p_2}{\\theta})\n",
    "\\end{align*}\n",
    "\n",
    "## 同时优化两个方程得到关于$w$的最优解\n",
    "\n",
    "\\begin{align*}\n",
    "p_2^* =& \\frac{-\\theta^2+(1+w)\\theta+2w}{4-\\theta} \\\\\n",
    "p_1^* =& \\frac{-2\\theta+3w+2}{4-\\theta}\n",
    "\\end{align*}\n",
    "\n",
    "## 验证最优解成立的条件\n",
    "\n",
    "\\begin{align*}p_{2}^{*}-w\\geq0 & \\Rightarrow\\frac{(1-\\theta)(\\theta-2w)}{4-\\theta}\\geq0 & \\Rightarrow\\theta\\geq2w\\\\\n",
    "p_{1}^{*}-w\\geq0 & \\Rightarrow\\frac{(1-\\theta)(2-w)}{4-\\theta}\\geq0 & \\Rightarrow any\\ \\theta\\\\\n",
    "p_{1}^{*}-\\frac{p_{2}^{*}}{\\theta}>0 & \\Rightarrow\\frac{(1-\\theta)(\\theta-2w)}{\\theta(4-\\theta)}>0 & \\Rightarrow\\theta>2w\n",
    "\\end{align*}\n",
    "\n",
    "- We have $\\theta>2w$\n",
    "to guarantee both retailer respond this way. Also because $1\\geq p_{1}\\geq\\frac{p_{2}}{\\theta}\\geq\\frac{w}{\\theta}$,\n",
    "we have $w\\leq\\theta$\n",
    "\n",
    "- 所以如果$2w\\leq\\theta$,我们可以求得最优解，但在$\\left[w,2w\\right]$区间上，零售商应该做出什么最有利于他们的决策呢？\n"
   ]
  },
  {
   "cell_type": "code",
   "execution_count": null,
   "metadata": {
    "collapsed": true
   },
   "outputs": [],
   "source": [
    "pprint(factor(best_p2))"
   ]
  },
  {
   "cell_type": "code",
   "execution_count": null,
   "metadata": {
    "collapsed": true
   },
   "outputs": [],
   "source": [
    "factor(best_p1-best_p2/s,s)"
   ]
  },
  {
   "cell_type": "code",
   "execution_count": null,
   "metadata": {
    "collapsed": true
   },
   "outputs": [],
   "source": [
    "pprint(factor(best_p1-best_p2/s,s))"
   ]
  },
  {
   "cell_type": "code",
   "execution_count": null,
   "metadata": {
    "collapsed": true
   },
   "outputs": [],
   "source": [
    "plt.style.use('ggplot')\n",
    "plot_implicit(simplify(best_p1 - best_p2/s)>0, (w,0,1),(s,0,1))"
   ]
  },
  {
   "cell_type": "code",
   "execution_count": null,
   "metadata": {
    "collapsed": true
   },
   "outputs": [],
   "source": [
    "pprint(solve(best_p1 - best_p2/s,w))"
   ]
  },
  {
   "cell_type": "code",
   "execution_count": null,
   "metadata": {
    "collapsed": true
   },
   "outputs": [],
   "source": [
    "solve(best_p1 - best_p2/s,w)"
   ]
  },
  {
   "cell_type": "code",
   "execution_count": null,
   "metadata": {
    "collapsed": true
   },
   "outputs": [],
   "source": [
    "pprint(factor(diff(best_p1 - best_p2/s,w),s))"
   ]
  },
  {
   "cell_type": "code",
   "execution_count": null,
   "metadata": {
    "collapsed": true
   },
   "outputs": [],
   "source": []
  }
 ],
 "metadata": {
  "kernelspec": {
   "display_name": "Python 3",
   "language": "python",
   "name": "python3"
  },
  "language_info": {
   "codemirror_mode": {
    "name": "ipython",
    "version": 3
   },
   "file_extension": ".py",
   "mimetype": "text/x-python",
   "name": "python",
   "nbconvert_exporter": "python",
   "pygments_lexer": "ipython3",
   "version": "3.6.2"
  },
  "widgets": {
   "application/vnd.jupyter.widget-state+json": {
    "state": {
     "21ed152f23fd4154b0676d3eeb021bfc": {
      "model_module": "@jupyter-widgets/base",
      "model_module_version": "1.0.0",
      "model_name": "LayoutModel",
      "state": {}
     },
     "22c7da681baa4255b2b7eed16cc889ad": {
      "model_module": "@jupyter-widgets/controls",
      "model_module_version": "1.0.0",
      "model_name": "SliderStyleModel",
      "state": {
       "description_width": ""
      }
     },
     "2780501162614906b911eed1ef73e532": {
      "model_module": "@jupyter-widgets/controls",
      "model_module_version": "1.0.0",
      "model_name": "VBoxModel",
      "state": {
       "_dom_classes": [
        "widget-interact"
       ],
       "children": [
        "IPY_MODEL_4b7f1415eca24301aa3de316e12c5a14",
        "IPY_MODEL_3025a9d434f24f31b901f02aa724cee4",
        "IPY_MODEL_ba9d1b62fa034efab9d92e8cf791e9ce"
       ],
       "layout": "IPY_MODEL_87462416b9b345879a170a8f969bfe5d"
      }
     },
     "3025a9d434f24f31b901f02aa724cee4": {
      "model_module": "@jupyter-widgets/controls",
      "model_module_version": "1.0.0",
      "model_name": "FloatSliderModel",
      "state": {
       "description": "P2 of Retailer 2:",
       "layout": "IPY_MODEL_a70efd46b9e841a2898d2efb45a7f1b2",
       "max": 1,
       "step": 0.01,
       "style": "IPY_MODEL_22c7da681baa4255b2b7eed16cc889ad",
       "value": 0.29
      }
     },
     "42301969d5e54dff8ef2de53183b0d6f": {
      "model_module": "@jupyter-widgets/base",
      "model_module_version": "1.0.0",
      "model_name": "LayoutModel",
      "state": {}
     },
     "4b7f1415eca24301aa3de316e12c5a14": {
      "model_module": "@jupyter-widgets/controls",
      "model_module_version": "1.0.0",
      "model_name": "FloatSliderModel",
      "state": {
       "description": "P1 of Retailer 1:",
       "layout": "IPY_MODEL_21ed152f23fd4154b0676d3eeb021bfc",
       "max": 1,
       "step": 0.01,
       "style": "IPY_MODEL_c626e813b29c419887dca6fc1c9bd976",
       "value": 0.48
      }
     },
     "87462416b9b345879a170a8f969bfe5d": {
      "model_module": "@jupyter-widgets/base",
      "model_module_version": "1.0.0",
      "model_name": "LayoutModel",
      "state": {}
     },
     "a70efd46b9e841a2898d2efb45a7f1b2": {
      "model_module": "@jupyter-widgets/base",
      "model_module_version": "1.0.0",
      "model_name": "LayoutModel",
      "state": {}
     },
     "ba9d1b62fa034efab9d92e8cf791e9ce": {
      "model_module": "@jupyter-widgets/output",
      "model_module_version": "1.0.0",
      "model_name": "OutputModel",
      "state": {
       "layout": "IPY_MODEL_42301969d5e54dff8ef2de53183b0d6f"
      }
     },
     "c626e813b29c419887dca6fc1c9bd976": {
      "model_module": "@jupyter-widgets/controls",
      "model_module_version": "1.0.0",
      "model_name": "SliderStyleModel",
      "state": {
       "description_width": ""
      }
     }
    },
    "version_major": 2,
    "version_minor": 0
   }
  }
 },
 "nbformat": 4,
 "nbformat_minor": 2
}
