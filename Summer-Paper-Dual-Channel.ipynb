{
 "cells": [
  {
   "cell_type": "code",
   "execution_count": 1,
   "metadata": {},
   "outputs": [],
   "source": [
    "# python ready\n",
    "from sympy import *\n",
    "import numpy as np\n",
    "from matplotlib import pyplot as plt\n",
    "import warnings\n",
    "warnings.filterwarnings('ignore')\n",
    "plt.style.use('ggplot')\n",
    "from jupyterthemes import jtplot\n",
    "jtplot.style(theme = 'grade3',context='notebook', fscale=1.4, spines=False, gridlines='-',\n",
    "            ticks=True, grid=False, figsize=(10, 4.5))\n",
    "# jt -t grade3 -f roboto -tf merriserif -tfs 10 -nf goudyserif -nfs 11 -mathfs 85 -N -lineh 100 -cursc r -cursw 3 -cellw 88% -f source -fs 90"
   ]
  },
  {
   "cell_type": "code",
   "execution_count": 2,
   "metadata": {
    "collapsed": true
   },
   "outputs": [],
   "source": [
    "# symbolic representation\n",
    "p1, p2, w1, w2, w = var(['p1','p2','w1','w2','w'])\n",
    "s, c1, c2 = var(['theta', 'c1', 'c2'])\n",
    "l1, l2, l3 = var(['lambda1', 'lambda2','lambda3'])\n",
    "v1 = p1; v2 = p2/s; v12 = (p1-p2)/(1-s)"
   ]
  },
  {
   "cell_type": "markdown",
   "metadata": {},
   "source": [
    "# customer utility and demand function\n",
    "\n",
    "If the product is sold in less famous retail store at a price $p_2$ and the value of the product is $\\theta v$, then the resulting consumer surplus is $v−p_2$. If consumers can buy from either channel, their decisions revolve around the comparison of the consumer surplus derived from two retail stores: $(v-p_1) - (\\theta v-p_2)$. if $(v-p_1) < (\\theta v-p_2)$ then the pricing advantage of less foumous retailer is preferred to the more reputable retailer. \n",
    "\n",
    "$$\n",
    "Q_1 = \\left\\{\\begin{matrix}\n",
    "1-\\frac{p_1-p_2}{1-\\theta} & \\frac{p_2}{\\theta}\\leq p_1\\\\ \n",
    "1-p_1 & \\frac{p_2}{\\theta}\\geq p_1\n",
    "\\end{matrix}\\right.\n",
    "$$\n",
    "\n",
    "$$\n",
    "Q_d = \\left\\{\\begin{matrix}\n",
    "\\frac{\\theta p_1-p_2}{\\theta(1-\\theta)} & \\frac{p_2}{\\theta}\\leq p_1\\\\ \n",
    "0 & \\frac{p_2}{\\theta}\\geq p_1\n",
    "\\end{matrix}\\right.\n",
    "$$\n"
   ]
  },
  {
   "cell_type": "code",
   "execution_count": 3,
   "metadata": {
    "collapsed": true
   },
   "outputs": [],
   "source": [
    "# demand function\n",
    "# case 1: v2 < v1 < v12 = p1 > p2/s\n",
    "Q1_1 = 1-v12 \n",
    "Q2_1 = v12 - v2\n",
    "Q0_1 = v2\n",
    "# case 2: v1 < v2 < v12 = p2/s > p1\n",
    "Q1_2 = 1- v1\n",
    "Q2_2 = 0\n",
    "Q0_2 = v1"
   ]
  },
  {
   "cell_type": "markdown",
   "metadata": {
    "collapsed": true
   },
   "source": [
    "# Base Case: Monopoly, one retailer only"
   ]
  },
  {
   "cell_type": "code",
   "execution_count": 4,
   "metadata": {
    "collapsed": true
   },
   "outputs": [],
   "source": [
    "plot_Q1 = Piecewise((Q1_1, p2/s <= p1), (Q1_2, True))\n",
    "plot_Q2 = Piecewise((Q2_1, p2/s <= p1), (Q2_2, True))\n",
    "plot_Q0 = Piecewise((Q0_1, p2/s <= p1), (Q0_2, True))"
   ]
  },
  {
   "cell_type": "code",
   "execution_count": 5,
   "metadata": {},
   "outputs": [
    {
     "data": {
      "text/html": [
       "\n",
       "    <div class=\"bk-root\">\n",
       "        <a href=\"https://bokeh.pydata.org\" target=\"_blank\" class=\"bk-logo bk-logo-small bk-logo-notebook\"></a>\n",
       "        <span id=\"4598348f-e8ba-488a-9386-7baf43117950\">Loading BokehJS ...</span>\n",
       "    </div>"
      ]
     },
     "metadata": {},
     "output_type": "display_data"
    },
    {
     "data": {
      "application/javascript": [
       "\n",
       "(function(root) {\n",
       "  function now() {\n",
       "    return new Date();\n",
       "  }\n",
       "\n",
       "  var force = true;\n",
       "\n",
       "  if (typeof (root._bokeh_onload_callbacks) === \"undefined\" || force === true) {\n",
       "    root._bokeh_onload_callbacks = [];\n",
       "    root._bokeh_is_loading = undefined;\n",
       "  }\n",
       "\n",
       "  var JS_MIME_TYPE = 'application/javascript';\n",
       "  var HTML_MIME_TYPE = 'text/html';\n",
       "  var EXEC_MIME_TYPE = 'application/vnd.bokehjs_exec.v0+json';\n",
       "  var CLASS_NAME = 'output_bokeh rendered_html';\n",
       "\n",
       "  /**\n",
       "   * Render data to the DOM node\n",
       "   */\n",
       "  function render(props, node) {\n",
       "    var script = document.createElement(\"script\");\n",
       "    node.appendChild(script);\n",
       "  }\n",
       "\n",
       "  /**\n",
       "   * Handle when an output is cleared or removed\n",
       "   */\n",
       "  function handleClearOutput(event, handle) {\n",
       "    var cell = handle.cell;\n",
       "\n",
       "    var id = cell.output_area._bokeh_element_id;\n",
       "    var server_id = cell.output_area._bokeh_server_id;\n",
       "    // Clean up Bokeh references\n",
       "    if (id !== undefined) {\n",
       "      Bokeh.index[id].model.document.clear();\n",
       "      delete Bokeh.index[id];\n",
       "    }\n",
       "\n",
       "    if (server_id !== undefined) {\n",
       "      // Clean up Bokeh references\n",
       "      var cmd = \"from bokeh.io.state import curstate; print(curstate().uuid_to_server['\" + server_id + \"'].get_sessions()[0].document.roots[0]._id)\";\n",
       "      cell.notebook.kernel.execute(cmd, {\n",
       "        iopub: {\n",
       "          output: function(msg) {\n",
       "            var element_id = msg.content.text.trim();\n",
       "            Bokeh.index[element_id].model.document.clear();\n",
       "            delete Bokeh.index[element_id];\n",
       "          }\n",
       "        }\n",
       "      });\n",
       "      // Destroy server and session\n",
       "      var cmd = \"import bokeh.io.notebook as ion; ion.destroy_server('\" + server_id + \"')\";\n",
       "      cell.notebook.kernel.execute(cmd);\n",
       "    }\n",
       "  }\n",
       "\n",
       "  /**\n",
       "   * Handle when a new output is added\n",
       "   */\n",
       "  function handleAddOutput(event, handle) {\n",
       "    var output_area = handle.output_area;\n",
       "    var output = handle.output;\n",
       "\n",
       "    // limit handleAddOutput to display_data with EXEC_MIME_TYPE content only\n",
       "    if ((output.output_type != \"display_data\") || (!output.data.hasOwnProperty(EXEC_MIME_TYPE))) {\n",
       "      return\n",
       "    }\n",
       "\n",
       "    var toinsert = output_area.element.find(`.${CLASS_NAME.split(' ')[0]}`);\n",
       "\n",
       "    if (output.metadata[EXEC_MIME_TYPE][\"id\"] !== undefined) {\n",
       "      toinsert[0].firstChild.textContent = output.data[JS_MIME_TYPE];\n",
       "      // store reference to embed id on output_area\n",
       "      output_area._bokeh_element_id = output.metadata[EXEC_MIME_TYPE][\"id\"];\n",
       "    }\n",
       "    if (output.metadata[EXEC_MIME_TYPE][\"server_id\"] !== undefined) {\n",
       "      var bk_div = document.createElement(\"div\");\n",
       "      bk_div.innerHTML = output.data[HTML_MIME_TYPE];\n",
       "      var script_attrs = bk_div.children[0].attributes;\n",
       "      for (var i = 0; i < script_attrs.length; i++) {\n",
       "        toinsert[0].firstChild.setAttribute(script_attrs[i].name, script_attrs[i].value);\n",
       "      }\n",
       "      // store reference to server id on output_area\n",
       "      output_area._bokeh_server_id = output.metadata[EXEC_MIME_TYPE][\"server_id\"];\n",
       "    }\n",
       "  }\n",
       "\n",
       "  function register_renderer(events, OutputArea) {\n",
       "\n",
       "    function append_mime(data, metadata, element) {\n",
       "      // create a DOM node to render to\n",
       "      var toinsert = this.create_output_subarea(\n",
       "        metadata,\n",
       "        CLASS_NAME,\n",
       "        EXEC_MIME_TYPE\n",
       "      );\n",
       "      this.keyboard_manager.register_events(toinsert);\n",
       "      // Render to node\n",
       "      var props = {data: data, metadata: metadata[EXEC_MIME_TYPE]};\n",
       "      render(props, toinsert[0]);\n",
       "      element.append(toinsert);\n",
       "      return toinsert\n",
       "    }\n",
       "\n",
       "    /* Handle when an output is cleared or removed */\n",
       "    events.on('clear_output.CodeCell', handleClearOutput);\n",
       "    events.on('delete.Cell', handleClearOutput);\n",
       "\n",
       "    /* Handle when a new output is added */\n",
       "    events.on('output_added.OutputArea', handleAddOutput);\n",
       "\n",
       "    /**\n",
       "     * Register the mime type and append_mime function with output_area\n",
       "     */\n",
       "    OutputArea.prototype.register_mime_type(EXEC_MIME_TYPE, append_mime, {\n",
       "      /* Is output safe? */\n",
       "      safe: true,\n",
       "      /* Index of renderer in `output_area.display_order` */\n",
       "      index: 0\n",
       "    });\n",
       "  }\n",
       "\n",
       "  // register the mime type if in Jupyter Notebook environment and previously unregistered\n",
       "  if (root.Jupyter !== undefined) {\n",
       "    var events = require('base/js/events');\n",
       "    var OutputArea = require('notebook/js/outputarea').OutputArea;\n",
       "\n",
       "    if (OutputArea.prototype.mime_types().indexOf(EXEC_MIME_TYPE) == -1) {\n",
       "      register_renderer(events, OutputArea);\n",
       "    }\n",
       "  }\n",
       "\n",
       "  \n",
       "  if (typeof (root._bokeh_timeout) === \"undefined\" || force === true) {\n",
       "    root._bokeh_timeout = Date.now() + 5000;\n",
       "    root._bokeh_failed_load = false;\n",
       "  }\n",
       "\n",
       "  var NB_LOAD_WARNING = {'data': {'text/html':\n",
       "     \"<div style='background-color: #fdd'>\\n\"+\n",
       "     \"<p>\\n\"+\n",
       "     \"BokehJS does not appear to have successfully loaded. If loading BokehJS from CDN, this \\n\"+\n",
       "     \"may be due to a slow or bad network connection. Possible fixes:\\n\"+\n",
       "     \"</p>\\n\"+\n",
       "     \"<ul>\\n\"+\n",
       "     \"<li>re-rerun `output_notebook()` to attempt to load from CDN again, or</li>\\n\"+\n",
       "     \"<li>use INLINE resources instead, as so:</li>\\n\"+\n",
       "     \"</ul>\\n\"+\n",
       "     \"<code>\\n\"+\n",
       "     \"from bokeh.resources import INLINE\\n\"+\n",
       "     \"output_notebook(resources=INLINE)\\n\"+\n",
       "     \"</code>\\n\"+\n",
       "     \"</div>\"}};\n",
       "\n",
       "  function display_loaded() {\n",
       "    var el = document.getElementById(\"4598348f-e8ba-488a-9386-7baf43117950\");\n",
       "    if (el != null) {\n",
       "      el.textContent = \"BokehJS is loading...\";\n",
       "    }\n",
       "    if (root.Bokeh !== undefined) {\n",
       "      if (el != null) {\n",
       "        el.textContent = \"BokehJS \" + root.Bokeh.version + \" successfully loaded.\";\n",
       "      }\n",
       "    } else if (Date.now() < root._bokeh_timeout) {\n",
       "      setTimeout(display_loaded, 100)\n",
       "    }\n",
       "  }\n",
       "\n",
       "\n",
       "  function run_callbacks() {\n",
       "    try {\n",
       "      root._bokeh_onload_callbacks.forEach(function(callback) { callback() });\n",
       "    }\n",
       "    finally {\n",
       "      delete root._bokeh_onload_callbacks\n",
       "    }\n",
       "    console.info(\"Bokeh: all callbacks have finished\");\n",
       "  }\n",
       "\n",
       "  function load_libs(js_urls, callback) {\n",
       "    root._bokeh_onload_callbacks.push(callback);\n",
       "    if (root._bokeh_is_loading > 0) {\n",
       "      console.log(\"Bokeh: BokehJS is being loaded, scheduling callback at\", now());\n",
       "      return null;\n",
       "    }\n",
       "    if (js_urls == null || js_urls.length === 0) {\n",
       "      run_callbacks();\n",
       "      return null;\n",
       "    }\n",
       "    console.log(\"Bokeh: BokehJS not loaded, scheduling load and callback at\", now());\n",
       "    root._bokeh_is_loading = js_urls.length;\n",
       "    for (var i = 0; i < js_urls.length; i++) {\n",
       "      var url = js_urls[i];\n",
       "      var s = document.createElement('script');\n",
       "      s.src = url;\n",
       "      s.async = false;\n",
       "      s.onreadystatechange = s.onload = function() {\n",
       "        root._bokeh_is_loading--;\n",
       "        if (root._bokeh_is_loading === 0) {\n",
       "          console.log(\"Bokeh: all BokehJS libraries loaded\");\n",
       "          run_callbacks()\n",
       "        }\n",
       "      };\n",
       "      s.onerror = function() {\n",
       "        console.warn(\"failed to load library \" + url);\n",
       "      };\n",
       "      console.log(\"Bokeh: injecting script tag for BokehJS library: \", url);\n",
       "      document.getElementsByTagName(\"head\")[0].appendChild(s);\n",
       "    }\n",
       "  };var element = document.getElementById(\"4598348f-e8ba-488a-9386-7baf43117950\");\n",
       "  if (element == null) {\n",
       "    console.log(\"Bokeh: ERROR: autoload.js configured with elementid '4598348f-e8ba-488a-9386-7baf43117950' but no matching script tag was found. \")\n",
       "    return false;\n",
       "  }\n",
       "\n",
       "  var js_urls = [\"https://cdn.pydata.org/bokeh/release/bokeh-0.12.10.min.js\", \"https://cdn.pydata.org/bokeh/release/bokeh-widgets-0.12.10.min.js\", \"https://cdn.pydata.org/bokeh/release/bokeh-tables-0.12.10.min.js\", \"https://cdn.pydata.org/bokeh/release/bokeh-gl-0.12.10.min.js\"];\n",
       "\n",
       "  var inline_js = [\n",
       "    function(Bokeh) {\n",
       "      Bokeh.set_log_level(\"info\");\n",
       "    },\n",
       "    \n",
       "    function(Bokeh) {\n",
       "      \n",
       "    },\n",
       "    function(Bokeh) {\n",
       "      console.log(\"Bokeh: injecting CSS: https://cdn.pydata.org/bokeh/release/bokeh-0.12.10.min.css\");\n",
       "      Bokeh.embed.inject_css(\"https://cdn.pydata.org/bokeh/release/bokeh-0.12.10.min.css\");\n",
       "      console.log(\"Bokeh: injecting CSS: https://cdn.pydata.org/bokeh/release/bokeh-widgets-0.12.10.min.css\");\n",
       "      Bokeh.embed.inject_css(\"https://cdn.pydata.org/bokeh/release/bokeh-widgets-0.12.10.min.css\");\n",
       "      console.log(\"Bokeh: injecting CSS: https://cdn.pydata.org/bokeh/release/bokeh-tables-0.12.10.min.css\");\n",
       "      Bokeh.embed.inject_css(\"https://cdn.pydata.org/bokeh/release/bokeh-tables-0.12.10.min.css\");\n",
       "    }\n",
       "  ];\n",
       "\n",
       "  function run_inline_js() {\n",
       "    \n",
       "    if ((root.Bokeh !== undefined) || (force === true)) {\n",
       "      for (var i = 0; i < inline_js.length; i++) {\n",
       "        inline_js[i].call(root, root.Bokeh);\n",
       "      }if (force === true) {\n",
       "        display_loaded();\n",
       "      }} else if (Date.now() < root._bokeh_timeout) {\n",
       "      setTimeout(run_inline_js, 100);\n",
       "    } else if (!root._bokeh_failed_load) {\n",
       "      console.log(\"Bokeh: BokehJS failed to load within specified timeout.\");\n",
       "      root._bokeh_failed_load = true;\n",
       "    } else if (force !== true) {\n",
       "      var cell = $(document.getElementById(\"4598348f-e8ba-488a-9386-7baf43117950\")).parents('.cell').data().cell;\n",
       "      cell.output_area.append_execute_result(NB_LOAD_WARNING)\n",
       "    }\n",
       "\n",
       "  }\n",
       "\n",
       "  if (root._bokeh_is_loading === 0) {\n",
       "    console.log(\"Bokeh: BokehJS loaded, going straight to plotting\");\n",
       "    run_inline_js();\n",
       "  } else {\n",
       "    load_libs(js_urls, function() {\n",
       "      console.log(\"Bokeh: BokehJS plotting callback run at\", now());\n",
       "      run_inline_js();\n",
       "    });\n",
       "  }\n",
       "}(window));"
      ],
      "application/vnd.bokehjs_load.v0+json": "\n(function(root) {\n  function now() {\n    return new Date();\n  }\n\n  var force = true;\n\n  if (typeof (root._bokeh_onload_callbacks) === \"undefined\" || force === true) {\n    root._bokeh_onload_callbacks = [];\n    root._bokeh_is_loading = undefined;\n  }\n\n  \n\n  \n  if (typeof (root._bokeh_timeout) === \"undefined\" || force === true) {\n    root._bokeh_timeout = Date.now() + 5000;\n    root._bokeh_failed_load = false;\n  }\n\n  var NB_LOAD_WARNING = {'data': {'text/html':\n     \"<div style='background-color: #fdd'>\\n\"+\n     \"<p>\\n\"+\n     \"BokehJS does not appear to have successfully loaded. If loading BokehJS from CDN, this \\n\"+\n     \"may be due to a slow or bad network connection. Possible fixes:\\n\"+\n     \"</p>\\n\"+\n     \"<ul>\\n\"+\n     \"<li>re-rerun `output_notebook()` to attempt to load from CDN again, or</li>\\n\"+\n     \"<li>use INLINE resources instead, as so:</li>\\n\"+\n     \"</ul>\\n\"+\n     \"<code>\\n\"+\n     \"from bokeh.resources import INLINE\\n\"+\n     \"output_notebook(resources=INLINE)\\n\"+\n     \"</code>\\n\"+\n     \"</div>\"}};\n\n  function display_loaded() {\n    var el = document.getElementById(\"4598348f-e8ba-488a-9386-7baf43117950\");\n    if (el != null) {\n      el.textContent = \"BokehJS is loading...\";\n    }\n    if (root.Bokeh !== undefined) {\n      if (el != null) {\n        el.textContent = \"BokehJS \" + root.Bokeh.version + \" successfully loaded.\";\n      }\n    } else if (Date.now() < root._bokeh_timeout) {\n      setTimeout(display_loaded, 100)\n    }\n  }\n\n\n  function run_callbacks() {\n    try {\n      root._bokeh_onload_callbacks.forEach(function(callback) { callback() });\n    }\n    finally {\n      delete root._bokeh_onload_callbacks\n    }\n    console.info(\"Bokeh: all callbacks have finished\");\n  }\n\n  function load_libs(js_urls, callback) {\n    root._bokeh_onload_callbacks.push(callback);\n    if (root._bokeh_is_loading > 0) {\n      console.log(\"Bokeh: BokehJS is being loaded, scheduling callback at\", now());\n      return null;\n    }\n    if (js_urls == null || js_urls.length === 0) {\n      run_callbacks();\n      return null;\n    }\n    console.log(\"Bokeh: BokehJS not loaded, scheduling load and callback at\", now());\n    root._bokeh_is_loading = js_urls.length;\n    for (var i = 0; i < js_urls.length; i++) {\n      var url = js_urls[i];\n      var s = document.createElement('script');\n      s.src = url;\n      s.async = false;\n      s.onreadystatechange = s.onload = function() {\n        root._bokeh_is_loading--;\n        if (root._bokeh_is_loading === 0) {\n          console.log(\"Bokeh: all BokehJS libraries loaded\");\n          run_callbacks()\n        }\n      };\n      s.onerror = function() {\n        console.warn(\"failed to load library \" + url);\n      };\n      console.log(\"Bokeh: injecting script tag for BokehJS library: \", url);\n      document.getElementsByTagName(\"head\")[0].appendChild(s);\n    }\n  };var element = document.getElementById(\"4598348f-e8ba-488a-9386-7baf43117950\");\n  if (element == null) {\n    console.log(\"Bokeh: ERROR: autoload.js configured with elementid '4598348f-e8ba-488a-9386-7baf43117950' but no matching script tag was found. \")\n    return false;\n  }\n\n  var js_urls = [\"https://cdn.pydata.org/bokeh/release/bokeh-0.12.10.min.js\", \"https://cdn.pydata.org/bokeh/release/bokeh-widgets-0.12.10.min.js\", \"https://cdn.pydata.org/bokeh/release/bokeh-tables-0.12.10.min.js\", \"https://cdn.pydata.org/bokeh/release/bokeh-gl-0.12.10.min.js\"];\n\n  var inline_js = [\n    function(Bokeh) {\n      Bokeh.set_log_level(\"info\");\n    },\n    \n    function(Bokeh) {\n      \n    },\n    function(Bokeh) {\n      console.log(\"Bokeh: injecting CSS: https://cdn.pydata.org/bokeh/release/bokeh-0.12.10.min.css\");\n      Bokeh.embed.inject_css(\"https://cdn.pydata.org/bokeh/release/bokeh-0.12.10.min.css\");\n      console.log(\"Bokeh: injecting CSS: https://cdn.pydata.org/bokeh/release/bokeh-widgets-0.12.10.min.css\");\n      Bokeh.embed.inject_css(\"https://cdn.pydata.org/bokeh/release/bokeh-widgets-0.12.10.min.css\");\n      console.log(\"Bokeh: injecting CSS: https://cdn.pydata.org/bokeh/release/bokeh-tables-0.12.10.min.css\");\n      Bokeh.embed.inject_css(\"https://cdn.pydata.org/bokeh/release/bokeh-tables-0.12.10.min.css\");\n    }\n  ];\n\n  function run_inline_js() {\n    \n    if ((root.Bokeh !== undefined) || (force === true)) {\n      for (var i = 0; i < inline_js.length; i++) {\n        inline_js[i].call(root, root.Bokeh);\n      }if (force === true) {\n        display_loaded();\n      }} else if (Date.now() < root._bokeh_timeout) {\n      setTimeout(run_inline_js, 100);\n    } else if (!root._bokeh_failed_load) {\n      console.log(\"Bokeh: BokehJS failed to load within specified timeout.\");\n      root._bokeh_failed_load = true;\n    } else if (force !== true) {\n      var cell = $(document.getElementById(\"4598348f-e8ba-488a-9386-7baf43117950\")).parents('.cell').data().cell;\n      cell.output_area.append_execute_result(NB_LOAD_WARNING)\n    }\n\n  }\n\n  if (root._bokeh_is_loading === 0) {\n    console.log(\"Bokeh: BokehJS loaded, going straight to plotting\");\n    run_inline_js();\n  } else {\n    load_libs(js_urls, function() {\n      console.log(\"Bokeh: BokehJS plotting callback run at\", now());\n      run_inline_js();\n    });\n  }\n}(window));"
     },
     "metadata": {},
     "output_type": "display_data"
    }
   ],
   "source": [
    "from bokeh.io import push_notebook, show, output_notebook\n",
    "from bokeh.models import Range1d,Slider\n",
    "from ipywidgets import interact, widgets, FloatSlider\n",
    "import bokeh.plotting as bk\n",
    "bk.output_notebook()"
   ]
  },
  {
   "cell_type": "code",
   "execution_count": 45,
   "metadata": {
    "scrolled": false
   },
   "outputs": [
    {
     "data": {
      "text/html": [
       "\n",
       "<div class=\"bk-root\">\n",
       "    <div class=\"bk-plotdiv\" id=\"0369edca-ab6c-45de-a8ad-e7d70ab28b03\"></div>\n",
       "</div>"
      ]
     },
     "metadata": {},
     "output_type": "display_data"
    },
    {
     "data": {
      "application/javascript": [
       "(function(root) {\n",
       "  function embed_document(root) {\n",
       "    var docs_json = {\"c153b393-617e-4ee1-9b8f-7154c12cdf83\":{\"roots\":{\"references\":[{\"attributes\":{\"data_source\":{\"id\":\"677a5987-d605-42d2-a9d1-0550ca2867b6\",\"type\":\"ColumnDataSource\"},\"glyph\":{\"id\":\"c026a190-9d91-4c5d-be67-0345b377689d\",\"type\":\"Ray\"},\"hover_glyph\":null,\"muted_glyph\":null,\"nonselection_glyph\":{\"id\":\"a9e09768-ca07-4401-ab2a-de030fcf85f8\",\"type\":\"Ray\"},\"selection_glyph\":null,\"view\":{\"id\":\"a119683e-dbef-4555-b83f-5c023e353302\",\"type\":\"CDSView\"}},\"id\":\"6095fc8c-13a8-4af7-a26b-bdfbf48fbd88\",\"type\":\"GlyphRenderer\"},{\"attributes\":{\"line_alpha\":{\"value\":0.2},\"line_color\":{\"value\":\"red\"},\"line_width\":{\"value\":2},\"x\":{\"field\":\"x\"},\"y\":{\"field\":\"y\"}},\"id\":\"8a20e29e-1da1-40b5-930b-fcda0cabd433\",\"type\":\"Line\"},{\"attributes\":{\"dimension\":1,\"plot\":{\"id\":\"027bf827-8759-4b7d-8e74-8b7b2cd72714\",\"subtype\":\"Figure\",\"type\":\"Plot\"},\"ticker\":{\"id\":\"c20acd17-06a8-4cdc-9056-be673f78fc26\",\"type\":\"BasicTicker\"}},\"id\":\"87ad8629-2840-4098-b4c2-4604693bced6\",\"type\":\"Grid\"},{\"attributes\":{\"axis_label\":\"\\u03b8\",\"formatter\":{\"id\":\"61023f8a-24a9-4b27-9db7-e46ee93b412f\",\"type\":\"BasicTickFormatter\"},\"plot\":{\"id\":\"027bf827-8759-4b7d-8e74-8b7b2cd72714\",\"subtype\":\"Figure\",\"type\":\"Plot\"},\"ticker\":{\"id\":\"8d6900dd-d32b-407c-a81e-b126df4c5b1f\",\"type\":\"BasicTicker\"}},\"id\":\"0889ebc8-fa7a-4cd5-977c-852f84a88b63\",\"type\":\"LinearAxis\"},{\"attributes\":{\"callback\":null,\"column_names\":[\"x\",\"y\"],\"data\":{\"x\":{\"__ndarray__\":\"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\",\"dtype\":\"float64\",\"shape\":[200]},\"y\":{\"__ndarray__\":\"mpmZmZmZ2T+amZmZmZnZP5qZmZmZmdk/mpmZmZmZ2T+amZmZmZnZP5qZmZmZmdk/mpmZmZmZ2T+amZmZmZnZP5qZmZmZmdk/mpmZmZmZ2T+amZmZmZnZP5qZmZmZmdk/mpmZmZmZ2T+amZmZmZnZP5qZmZmZmdk/mpmZmZmZ2T+amZmZmZnZP5qZmZmZmdk/mpmZmZmZ2T+amZmZmZnZP5qZmZmZmdk/mpmZmZmZ2T+amZmZmZnZP5qZmZmZmdk/mpmZmZmZ2T+amZmZmZnZP5qZmZmZmdk/mpmZmZmZ2T+amZmZmZnZP5qZmZmZmdk/mpmZmZmZ2T+amZmZmZnZP5qZmZmZmdk/mpmZmZmZ2T+amZmZmZnZP5qZmZmZmdk/mpmZmZmZ2T+amZmZmZnZP5qZmZmZmdk/mpmZmZmZ2T+amZmZmZnZP5qZmZmZmdk/mpmZmZmZ2T+amZmZmZnZP5qZmZmZmdk/mpmZmZmZ2T+amZmZmZnZP5qZmZmZmdk/mpmZmZmZ2T+amZmZmZnZP5qZmZmZmdk/mpmZmZmZ2T+amZmZmZnZP5qZmZmZmdk/mpmZmZmZ2T+amZmZmZnZP5qZmZmZmdk/mpmZmZmZ2T+amZmZmZnZP5qZmZmZmdk/mpmZmZmZ2T+amZmZmZnZP5qZmZmZmdk/mpmZmZmZ2T+amZmZmZnZP5qZmZmZmdk/mpmZmZmZ2T+amZmZmZnZP5qZmZmZmdk/mpmZmZmZ2T+amZmZmZnZP5qZmZmZmdk/mpmZmZmZ2T+amZmZmZnZP5qZmZmZmdk/mpmZmZmZ2T+amZmZmZnZP5qZmZmZmdk/mpmZmZmZ2T+amZmZmZnZP5qZmZmZmdk/mpmZmZmZ2T+amZmZmZnZP5qZmZmZmdk/mpmZmZmZ2T+amZmZmZnZP5qZmZmZmdk/mpmZmZmZ2T+amZmZmZnZP5qZmZmZmdk/mpmZmZmZ2T+amZmZmZnZP5qZmZmZmdk/mpmZmZmZ2T+amZmZmZnZP5qZmZmZmdk/mpmZmZmZ2T+amZmZmZnZP5qZmZmZmdk/mpmZmZmZ2T9qOX+W82fZPw5HTHsiA9k/+vWWOj2c2D80MzMzMzPYPxgWtRDzx9c/uAjowWpa1z/sdqhuh+rWP+gIFG01eNY/NmADNmAD1j+MJb9Y8ovVP1Dv4G3VEdU/liBPCfKU1D/8UkGrLxXUP0wnObB0ktM/DHPZP6YM0z86qIM6qIPSP6AAoSVd99E/aGF6FqZn0T9GDX+bYtTQPzwK16NwPdA/8CQ1ylhFzz+A4Ad+4AfOPwxv2Tkpwsw/QLfEqd9zyz/oJjEIrBzKP8CL89AxvMg/JHUdbg9Sxz/g3d3d3d3FP4AlxFAwX8Q/jGCiv5PVwj8QbTV4jkDBP0g/Pz8/P78/YKdLU33kuz9wWPuGtW+4PyiBrGG037Q/KDMzMzMzsT8wrdEardGqPxCT5S9Z/qI/YLWo56zSlT8AFK5H4Xp0PwA317hdTIi/QDjg8YcDnr8AhJF2rECov6AO6qAO6rC/4JUFXlngtb9gsAVbsAW7v1Bo9KteLsC/QC/0Qi/0wr/Y1dXV1dXFv6hFtvP91Mi/0OPOEnbzy79AMzMzMzPPv5DuL3wqS9G/MO7XJZUP07/otIFOG+jUv9i+Ye0b1ta/cLGNnxbb2L+Ir/iKr/javzA9C9OzMN2/iOtRuB6F37/ED/zAD/zgv2akHSsQRuK/HDqGF+eh478QERERERHlv7rPLiA2lea/NDAwMDAw6L/qKUGeEuTpvzAzMzMzs+u/nk0D2jSg7b+wR+F6FK7vv8YBjz8c8PC/2EEd1EEd8r8ItmALtmDzv9ALvdALvfS/apHtfD819r/QzMzMzMz3vx7365LKh/m/Zt+w9g1r+7/EV3zFV3z9v8T1KFyPwv+/M9KOFQgjAcCNiIiIiIgCwBQYGBgYGATAmJmZmZnZBcDYo3A9CtcHwNhBHdRBHQrA2Au90Au9DMDGzMzMzMwPwLNvWPuGtRHA4noUrkfhE8CNiIiIiIgWwKOZmZmZ2RnAyEEd1EEdHsBjZmZmZuYhwOJ6FK5H4SXAo5mZmZnZK8B3ZmZmZuYywNKZmZmZ2TzAdZmZmZlZTcAAAAAAAADw/w==\",\"dtype\":\"float64\",\"shape\":[200]}}},\"id\":\"447e8a62-9396-47ce-80a9-1e2435a91319\",\"type\":\"ColumnDataSource\"},{\"attributes\":{\"click_policy\":\"hide\",\"items\":[{\"id\":\"27f43f06-73f8-46d6-9e95-7bf6d07a785e\",\"type\":\"LegendItem\"},{\"id\":\"4fa3c973-9f59-48b8-8ae7-9fe73d637b57\",\"type\":\"LegendItem\"},{\"id\":\"cc882b5b-9ecb-4072-86e3-817718fefafe\",\"type\":\"LegendItem\"}],\"plot\":{\"id\":\"027bf827-8759-4b7d-8e74-8b7b2cd72714\",\"subtype\":\"Figure\",\"type\":\"Plot\"}},\"id\":\"3e17603f-536d-436c-ad66-e6b7cfbf33c7\",\"type\":\"Legend\"},{\"attributes\":{\"plot\":{\"id\":\"027bf827-8759-4b7d-8e74-8b7b2cd72714\",\"subtype\":\"Figure\",\"type\":\"Plot\"},\"ticker\":{\"id\":\"8d6900dd-d32b-407c-a81e-b126df4c5b1f\",\"type\":\"BasicTicker\"}},\"id\":\"38dc468f-a92e-41b0-8fce-f04fe19dc030\",\"type\":\"Grid\"},{\"attributes\":{\"label\":{\"value\":\"Q1\"},\"renderers\":[{\"id\":\"ced90d83-1cd7-4f81-8a6f-28c82e304082\",\"type\":\"GlyphRenderer\"}]},\"id\":\"27f43f06-73f8-46d6-9e95-7bf6d07a785e\",\"type\":\"LegendItem\"},{\"attributes\":{\"data_source\":{\"id\":\"a78a3525-8ff8-447c-83e0-51f42877140f\",\"type\":\"ColumnDataSource\"},\"glyph\":{\"id\":\"8a20e29e-1da1-40b5-930b-fcda0cabd433\",\"type\":\"Line\"},\"hover_glyph\":null,\"muted_glyph\":null,\"nonselection_glyph\":{\"id\":\"8ea6cf40-a2af-4e4b-9ce0-f624f7705ad6\",\"type\":\"Line\"},\"selection_glyph\":null,\"view\":{\"id\":\"a3c88f9a-08ae-4e1e-a3c6-b30930a80091\",\"type\":\"CDSView\"}},\"id\":\"55713f87-a8e7-4e13-9cb4-74d171892387\",\"type\":\"GlyphRenderer\"},{\"attributes\":{\"line_alpha\":{\"value\":0.8},\"line_color\":{\"value\":\"green\"},\"line_width\":{\"value\":2},\"x\":{\"field\":\"x\"},\"y\":{\"field\":\"y\"}},\"id\":\"1410ee00-32a2-4bbb-810a-cfbe5e5f6ce3\",\"type\":\"Line\"},{\"attributes\":{\"line_alpha\":{\"value\":0.3},\"line_color\":{\"value\":\"navy\"},\"line_width\":{\"value\":2},\"x\":{\"field\":\"x\"},\"y\":{\"field\":\"y\"}},\"id\":\"7f156a9c-c3cc-4e5a-9f07-60093e1d4138\",\"type\":\"Line\"},{\"attributes\":{\"bottom_units\":\"screen\",\"fill_alpha\":{\"value\":0.5},\"fill_color\":{\"value\":\"lightgrey\"},\"left_units\":\"screen\",\"level\":\"overlay\",\"line_alpha\":{\"value\":1.0},\"line_color\":{\"value\":\"black\"},\"line_dash\":[4,4],\"line_width\":{\"value\":2},\"plot\":null,\"render_mode\":\"css\",\"right_units\":\"screen\",\"top_units\":\"screen\"},\"id\":\"e5c07c93-7161-4a78-9e24-c2332784ffb3\",\"type\":\"BoxAnnotation\"},{\"attributes\":{},\"id\":\"61023f8a-24a9-4b27-9db7-e46ee93b412f\",\"type\":\"BasicTickFormatter\"},{\"attributes\":{},\"id\":\"d87872ac-491d-43b9-8285-f232028aeb11\",\"type\":\"WheelZoomTool\"},{\"attributes\":{},\"id\":\"8d30c465-4d49-4925-a14b-6fc07fb101d8\",\"type\":\"LinearScale\"},{\"attributes\":{},\"id\":\"443e53a0-9de2-48fe-be76-a06b45358f76\",\"type\":\"SaveTool\"},{\"attributes\":{\"data_source\":{\"id\":\"447e8a62-9396-47ce-80a9-1e2435a91319\",\"type\":\"ColumnDataSource\"},\"glyph\":{\"id\":\"1410ee00-32a2-4bbb-810a-cfbe5e5f6ce3\",\"type\":\"Line\"},\"hover_glyph\":null,\"muted_glyph\":null,\"nonselection_glyph\":{\"id\":\"ce820724-e22a-4760-b74e-01121fae7538\",\"type\":\"Line\"},\"selection_glyph\":null,\"view\":{\"id\":\"82d921d9-962a-40d7-b02d-6b771db53410\",\"type\":\"CDSView\"}},\"id\":\"ced90d83-1cd7-4f81-8a6f-28c82e304082\",\"type\":\"GlyphRenderer\"},{\"attributes\":{\"callback\":null,\"column_names\":[\"x\",\"y\"],\"data\":{\"x\":{\"__ndarray__\":\"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\",\"dtype\":\"float64\",\"shape\":[200]},\"y\":{\"__ndarray__\":\"MzMzMzMz4z8zMzMzMzPjPzMzMzMzM+M/MzMzMzMz4z8zMzMzMzPjPzMzMzMzM+M/MzMzMzMz4z8zMzMzMzPjPzMzMzMzM+M/MzMzMzMz4z8zMzMzMzPjPzMzMzMzM+M/MzMzMzMz4z8zMzMzMzPjPzMzMzMzM+M/MzMzMzMz4z8zMzMzMzPjPzMzMzMzM+M/MzMzMzMz4z8zMzMzMzPjPzMzMzMzM+M/MzMzMzMz4z8zMzMzMzPjPzMzMzMzM+M/MzMzMzMz4z8zMzMzMzPjPzMzMzMzM+M/MzMzMzMz4z8zMzMzMzPjPzMzMzMzM+M/MzMzMzMz4z8zMzMzMzPjPzMzMzMzM+M/MzMzMzMz4z8zMzMzMzPjPzMzMzMzM+M/MzMzMzMz4z8zMzMzMzPjPzMzMzMzM+M/MzMzMzMz4z8zMzMzMzPjPzMzMzMzM+M/MzMzMzMz4z8zMzMzMzPjPzMzMzMzM+M/MzMzMzMz4z8zMzMzMzPjPzMzMzMzM+M/MzMzMzMz4z8zMzMzMzPjPzMzMzMzM+M/MzMzMzMz4z8zMzMzMzPjPzMzMzMzM+M/MzMzMzMz4z8zMzMzMzPjPzMzMzMzM+M/MzMzMzMz4z8zMzMzMzPjPzMzMzMzM+M/MzMzMzMz4z8zMzMzMzPjPzMzMzMzM+M/MzMzMzMz4z8zMzMzMzPjPzMzMzMzM+M/MzMzMzMz4z8zMzMzMzPjPzMzMzMzM+M/MzMzMzMz4z8zMzMzMzPjPzMzMzMzM+M/MzMzMzMz4z8zMzMzMzPjPzMzMzMzM+M/MzMzMzMz4z8zMzMzMzPjPzMzMzMzM+M/MzMzMzMz4z8zMzMzMzPjPzMzMzMzM+M/MzMzMzMz4z8zMzMzMzPjPzMzMzMzM+M/MzMzMzMz4z8zMzMzMzPjPzMzMzMzM+M/MzMzMzMz4z8zMzMzMzPjPzMzMzMzM+M/MzMzMzMz4z8zMzMzMzPjPzMzMzMzM+M/MzMzMzMz4z8zMzMzMzPjPzMzMzMzM+M/MzMzMzMz4z8zMzMzMzPjPzMzMzMzM+M/MzMzMzMz4z+1yHa+nxrjP+9o+bQz6uI/u7q6urq64j+n5Wa7LYziP+iFXuiFXuI/6e9ktbwx4j8LjX7VywXiPwYs/Det2uE/BVuwBVuw4T9sGEyez4bhP11Z4JUFXuE/YBOCsvc14T/qoA7qoA7hP8Z/DmD85+A/IIy0YwXC4D9w/Pdtt5zgP+KAxx8OeOA/QAVUQAVU4D9trnG7mDDgP6DEDaDEDeA/1qNwPQrX3z99ooAQrZPfP1W6wphqUd8/EL8D8TsQ3z/PpgFtGtDeP1J0JJf/kN4/LuVSLuVS3j9SXOEjxRXeP5mZmZmZ2d0/zeXZ31ye3T/Zb8pzCWTdP5Srp/2ZKt0/8pQgTwny3D+ly8dhUrrcPxSLllVwg9w/opGAb15N3D8YGBgYGBjcPxoHQdqY49s/u6TyYdyv2z+h/wZ73nzbP9xnFxCbSts/hk9lKQ4Z2z+g9s7rM+jaP2lOz5cIuNo/iIiIiIiI2j82ztgysFnaP7iieCR8K9o/THsiA+n92T8PHcOL89DZP0dXspGYpNk/Rbbz/dR42T8w0H7OpU3ZPzDSjhUII9k/+fj4+Pj42D89pImxdc/YP6a4Z4p7ptg/4Ad+4Ad+2D/3eeohGFbYP8S2cs2pLtg/YxH+cboH2D/hehSuR+HXPw1EYi9Pu9c/XXlAss6V1z8qpkEBxHDXP0zPwvQsTNc/J3eAcgco1z+wfy9tUQTXP9jAGeQI4dY/4yu+4iu+1j8KVnSAuJvWP3lGE+CsedY/gGWbLwdY1j9abOOnxTbWP3Q2SIzmFdY/glZfKmj11T8XU6zZSNXVP7VvWPuGtdU/kujs+SCW1T9XiA9JFXfVP26AQWViWNU/Om2g0wY61T/dcKkhARzVP+VP/uRP/tQ/OXwsu/Hg1D+M+3VJ5cPUPz8XnDwpp9Q/isSrSLyK1D9vtMsonW7UP6T7C5/KUtQ/dEM3dEM31D/zdKV3BhzUP9LQD38SAdQ/ZmZmZmbm0z8/3aYPAczTPwOFtGLhsdM/5p8xTQaY0z953FnCbn7TPwv03boZZdM/TGPANAZM0z8zMzMzMzPTPw==\",\"dtype\":\"float64\",\"shape\":[200]}}},\"id\":\"a78a3525-8ff8-447c-83e0-51f42877140f\",\"type\":\"ColumnDataSource\"},{\"attributes\":{\"callback\":null,\"column_names\":[\"x\",\"y\"],\"data\":{\"x\":[0.7],\"y\":[0]}},\"id\":\"677a5987-d605-42d2-a9d1-0550ca2867b6\",\"type\":\"ColumnDataSource\"},{\"attributes\":{\"source\":{\"id\":\"447e8a62-9396-47ce-80a9-1e2435a91319\",\"type\":\"ColumnDataSource\"}},\"id\":\"82d921d9-962a-40d7-b02d-6b771db53410\",\"type\":\"CDSView\"},{\"attributes\":{},\"id\":\"8d6900dd-d32b-407c-a81e-b126df4c5b1f\",\"type\":\"BasicTicker\"},{\"attributes\":{\"data_source\":{\"id\":\"65686c53-0174-4e17-9855-ae1b036d56b8\",\"type\":\"ColumnDataSource\"},\"glyph\":{\"id\":\"7f156a9c-c3cc-4e5a-9f07-60093e1d4138\",\"type\":\"Line\"},\"hover_glyph\":null,\"muted_glyph\":null,\"nonselection_glyph\":{\"id\":\"683a9d19-32f3-43d2-8579-f34e6e5d668b\",\"type\":\"Line\"},\"selection_glyph\":null,\"view\":{\"id\":\"56be7da4-f57d-415b-b5fb-b21e61fabeea\",\"type\":\"CDSView\"}},\"id\":\"1eb140ff-521b-49b5-9bba-a365c33e090f\",\"type\":\"GlyphRenderer\"},{\"attributes\":{},\"id\":\"f2e1cb65-9a68-43eb-b86f-613bf65e976d\",\"type\":\"LinearScale\"},{\"attributes\":{\"plot\":null,\"text\":\"demand ~ price\"},\"id\":\"b9bdfcdc-0755-4351-b6e0-079a1ef4a242\",\"type\":\"Title\"},{\"attributes\":{\"line_alpha\":{\"value\":0.1},\"line_color\":{\"value\":\"#1f77b4\"},\"line_width\":{\"value\":2},\"x\":{\"field\":\"x\"},\"y\":{\"field\":\"y\"}},\"id\":\"ce820724-e22a-4760-b74e-01121fae7538\",\"type\":\"Line\"},{\"attributes\":{},\"id\":\"1489e6b1-5b70-4f5d-a2f4-dd6f2842c77b\",\"type\":\"PanTool\"},{\"attributes\":{\"line_alpha\":{\"value\":0.1},\"line_color\":{\"value\":\"#1f77b4\"},\"line_width\":{\"value\":2},\"x\":{\"field\":\"x\"},\"y\":{\"field\":\"y\"}},\"id\":\"683a9d19-32f3-43d2-8579-f34e6e5d668b\",\"type\":\"Line\"},{\"attributes\":{\"overlay\":{\"id\":\"e5c07c93-7161-4a78-9e24-c2332784ffb3\",\"type\":\"BoxAnnotation\"}},\"id\":\"6d9ce456-15cf-4e20-a724-ab4fb98c0464\",\"type\":\"BoxZoomTool\"},{\"attributes\":{},\"id\":\"0780b2b0-d3a6-4f21-afb4-1eeae765c639\",\"type\":\"BasicTickFormatter\"},{\"attributes\":{\"angle\":{\"units\":\"rad\",\"value\":1.5707963267948966},\"length\":{\"units\":\"data\",\"value\":0},\"line_color\":{\"value\":\"#1f77b4\"},\"x\":{\"field\":\"x\"},\"y\":{\"field\":\"y\"}},\"id\":\"c026a190-9d91-4c5d-be67-0345b377689d\",\"type\":\"Ray\"},{\"attributes\":{\"label\":{\"value\":\"Q2\"},\"renderers\":[{\"id\":\"1eb140ff-521b-49b5-9bba-a365c33e090f\",\"type\":\"GlyphRenderer\"}]},\"id\":\"4fa3c973-9f59-48b8-8ae7-9fe73d637b57\",\"type\":\"LegendItem\"},{\"attributes\":{\"formatter\":{\"id\":\"0780b2b0-d3a6-4f21-afb4-1eeae765c639\",\"type\":\"BasicTickFormatter\"},\"plot\":{\"id\":\"027bf827-8759-4b7d-8e74-8b7b2cd72714\",\"subtype\":\"Figure\",\"type\":\"Plot\"},\"ticker\":{\"id\":\"c20acd17-06a8-4cdc-9056-be673f78fc26\",\"type\":\"BasicTicker\"}},\"id\":\"2c02e730-abc4-42ef-a878-a24d05e69d2f\",\"type\":\"LinearAxis\"},{\"attributes\":{\"label\":{\"value\":\"Q0\"},\"renderers\":[{\"id\":\"55713f87-a8e7-4e13-9cb4-74d171892387\",\"type\":\"GlyphRenderer\"}]},\"id\":\"cc882b5b-9ecb-4072-86e3-817718fefafe\",\"type\":\"LegendItem\"},{\"attributes\":{\"source\":{\"id\":\"65686c53-0174-4e17-9855-ae1b036d56b8\",\"type\":\"ColumnDataSource\"}},\"id\":\"56be7da4-f57d-415b-b5fb-b21e61fabeea\",\"type\":\"CDSView\"},{\"attributes\":{},\"id\":\"c316716e-2fb4-45a0-9569-998127e54e65\",\"type\":\"ResetTool\"},{\"attributes\":{\"callback\":null},\"id\":\"b85bd1ef-bf31-4463-9930-bc1aa9e8189d\",\"type\":\"DataRange1d\"},{\"attributes\":{\"below\":[{\"id\":\"0889ebc8-fa7a-4cd5-977c-852f84a88b63\",\"type\":\"LinearAxis\"}],\"left\":[{\"id\":\"2c02e730-abc4-42ef-a878-a24d05e69d2f\",\"type\":\"LinearAxis\"}],\"plot_height\":250,\"renderers\":[{\"id\":\"0889ebc8-fa7a-4cd5-977c-852f84a88b63\",\"type\":\"LinearAxis\"},{\"id\":\"38dc468f-a92e-41b0-8fce-f04fe19dc030\",\"type\":\"Grid\"},{\"id\":\"2c02e730-abc4-42ef-a878-a24d05e69d2f\",\"type\":\"LinearAxis\"},{\"id\":\"87ad8629-2840-4098-b4c2-4604693bced6\",\"type\":\"Grid\"},{\"id\":\"e5c07c93-7161-4a78-9e24-c2332784ffb3\",\"type\":\"BoxAnnotation\"},{\"id\":\"3e17603f-536d-436c-ad66-e6b7cfbf33c7\",\"type\":\"Legend\"},{\"id\":\"ced90d83-1cd7-4f81-8a6f-28c82e304082\",\"type\":\"GlyphRenderer\"},{\"id\":\"1eb140ff-521b-49b5-9bba-a365c33e090f\",\"type\":\"GlyphRenderer\"},{\"id\":\"55713f87-a8e7-4e13-9cb4-74d171892387\",\"type\":\"GlyphRenderer\"},{\"id\":\"6095fc8c-13a8-4af7-a26b-bdfbf48fbd88\",\"type\":\"GlyphRenderer\"}],\"title\":{\"id\":\"b9bdfcdc-0755-4351-b6e0-079a1ef4a242\",\"type\":\"Title\"},\"toolbar\":{\"id\":\"35d9df70-1da1-422f-9a0a-939bf35fccf2\",\"type\":\"Toolbar\"},\"x_range\":{\"id\":\"b85bd1ef-bf31-4463-9930-bc1aa9e8189d\",\"type\":\"DataRange1d\"},\"x_scale\":{\"id\":\"8d30c465-4d49-4925-a14b-6fc07fb101d8\",\"type\":\"LinearScale\"},\"y_range\":{\"id\":\"07246ac6-8789-4be1-b12d-0370bd5ca7fc\",\"type\":\"Range1d\"},\"y_scale\":{\"id\":\"f2e1cb65-9a68-43eb-b86f-613bf65e976d\",\"type\":\"LinearScale\"}},\"id\":\"027bf827-8759-4b7d-8e74-8b7b2cd72714\",\"subtype\":\"Figure\",\"type\":\"Plot\"},{\"attributes\":{\"line_alpha\":{\"value\":0.1},\"line_color\":{\"value\":\"#1f77b4\"},\"line_width\":{\"value\":2},\"x\":{\"field\":\"x\"},\"y\":{\"field\":\"y\"}},\"id\":\"8ea6cf40-a2af-4e4b-9ce0-f624f7705ad6\",\"type\":\"Line\"},{\"attributes\":{\"callback\":null},\"id\":\"07246ac6-8789-4be1-b12d-0370bd5ca7fc\",\"type\":\"Range1d\"},{\"attributes\":{\"angle\":{\"units\":\"rad\",\"value\":1.5707963267948966},\"length\":{\"units\":\"data\",\"value\":0},\"line_alpha\":{\"value\":0.1},\"line_color\":{\"value\":\"#1f77b4\"},\"x\":{\"field\":\"x\"},\"y\":{\"field\":\"y\"}},\"id\":\"a9e09768-ca07-4401-ab2a-de030fcf85f8\",\"type\":\"Ray\"},{\"attributes\":{},\"id\":\"9f3828ec-4309-446e-871c-fa20a48b36d9\",\"type\":\"HelpTool\"},{\"attributes\":{},\"id\":\"c20acd17-06a8-4cdc-9056-be673f78fc26\",\"type\":\"BasicTicker\"},{\"attributes\":{\"callback\":null,\"column_names\":[\"x\",\"y\"],\"data\":{\"x\":{\"__ndarray__\":\"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\",\"dtype\":\"float64\",\"shape\":[200]},\"y\":{\"__ndarray__\":\"AAAAAAAAAAAAAAAAAAAAAAAAAAAAAAAAAAAAAAAAAAAAAAAAAAAAAAAAAAAAAAAAAAAAAAAAAAAAAAAAAAAAAAAAAAAAAAAAAAAAAAAAAAAAAAAAAAAAAAAAAAAAAAAAAAAAAAAAAAAAAAAAAAAAAAAAAAAAAAAAAAAAAAAAAAAAAAAAAAAAAAAAAAAAAAAAAAAAAAAAAAAAAAAAAAAAAAAAAAAAAAAAAAAAAAAAAAAAAAAAAAAAAAAAAAAAAAAAAAAAAAAAAAAAAAAAAAAAAAAAAAAAAAAAAAAAAAAAAAAAAAAAAAAAAAAAAAAAAAAAAAAAAAAAAAAAAAAAAAAAAAAAAAAAAAAAAAAAAAAAAAAAAAAAAAAAAAAAAAAAAAAAAAAAAAAAAAAAAAAAAAAAAAAAAAAAAAAAAAAAAAAAAAAAAAAAAAAAAAAAAAAAAAAAAAAAAAAAAAAAAAAAAAAAAAAAAAAAAAAAAAAAAAAAAAAAAAAAAAAAAAAAAAAAAAAAAAAAAAAAAAAAAAAAAAAAAAAAAAAAAAAAAAAAAAAAAAAAAAAAAAAAAAAAAAAAAAAAAAAAAAAAAAAAAAAAAAAAAAAAAAAAAAAAAAAAAAAAAAAAAAAAAAAAAAAAAAAAAAAAAAAAAAAAAAAAAAAAAAAAAAAAAAAAAAAAAAAAAAAAAAAAAAAAAAAAAAAAAAAAAAAAAAAAAAAAAAAAAAAAAAAAAAAAAAAAAAAAAAAAAAAAAAAAAAAAAAAAAAAAAAAAAAAAAAAAAAAAAAAAAAAAAAAAAAAAAAAAAAAAAAAAAAAAAAAAAAAAAAAAAAAAAAAAAAAAAAAAAAAAAAAAAAAAAAAAAAAAAAAAAAAAAAAAAAAAAAAAAAAAAAAAAAAAAAAAAAAAAAAAAAAAAAAAAAAAAAAAAAAAAAAAAAAAAAAAAAAAAAAAAAAAAAAAAAAAAAAAAAAAAAAAAAAAAAAAAAAAAAAAAAAAAAAAAAAAAAAAAAAAAAAAAAAAAAAAAAAAAAAAAAAAAAAAAAAAAAAAAAAAAAAAAAAAAAAAAAAAAAAAAAAAAAAAS80kO7N4P0BxDqxhh5I/AEk5/9Tknj/wC/iviqOlP8DwbvQI2Ks/2F04TW8IsT/4u2mZgye0PzB8zovASbc/AKdv+qZvuj9wpqKquZm9P+y7vMw+ZMA/VHFZIz3+wT9g1kIBHZvDP1CyUx8lO8U/aOl68Z3exj/MvRjT0YXIPzj7nzUNMco/MCi70Z7gyz/AKzvb15TNPwjZGjgMTs8/ssl0XUmG0D9DbXuwYmjRPyWOUMqATdI/UOUZOtQ10z+9xeWOjyHUP87FYYDnENU/QGCeGhME1j++tC/tS/vWP6dTBD7O9tc/7elUQNn22D+f2RpQr/vZP5qEiDKWBds/NoEMXNcU3D8/Xnk8wCndP6JU/pGiRN4/lKGyw9Rl3z8h2UYi2UbgP0Ij4f9N3uA/+GfJZ3x54T8IJO3/mhjiP+6o1+7ju+I//1ncKpVj4z/wnIHR8A/kP6CaNYg9weQ/eG5858Z35T/xTvTx3TPmP7jIwJjZ9eY/Ks4rTxe+5z/u5pOv+4zoP8ZlFDTzYuk/0t25BXNA6j+4ZI3l+SXrPzCOUDMRFOw/nHpvFk4L7T9WCHzOUgzuPxkDfTHQF+8/ZOrDr0MX8D9kjUPapajwP5shZoGCQPE/ifaUEVnf8T8q6fj0tYXyPzBBtkk0NPM/t/4y33/r8z/+HjiIV6z0Pwq05tKPd/U/UPp3OxZO9j8JtdTz9DD3P2Ipk2BXIfg/1htSdI8g+T9WjlMdHDD6PygwigexUfs/eGg2CECH/D/y2mehBNP9PzP+qi2SN/8/5d0qufJbAEAF3DBLvSsBQJjtCmo0DQJAodIa3MICA0DXOpw5SQ8EQNRKbGE7NgVAjMQaO8d7BkBxWlNkCOUHQBdOeBtOeAlAEQo0Yns9C0Bm5EGUjT4NQPC+iaxciA9Ao8nTI9oVEUAcq9mTfJ8SQPmvZ1FacBRAqwbRdtOdFkA+MQ4hyEYZQJacqHGImRxAsW3btm1vIEB5L+ldBkgjQLrW/qK4QydApAwwZ9k8LUAF/1yrbJgzQAIirjIFjD1ArhgwjQGzTUAAAAAAAADwfw==\",\"dtype\":\"float64\",\"shape\":[200]}}},\"id\":\"65686c53-0174-4e17-9855-ae1b036d56b8\",\"type\":\"ColumnDataSource\"},{\"attributes\":{\"source\":{\"id\":\"677a5987-d605-42d2-a9d1-0550ca2867b6\",\"type\":\"ColumnDataSource\"}},\"id\":\"a119683e-dbef-4555-b83f-5c023e353302\",\"type\":\"CDSView\"},{\"attributes\":{\"active_drag\":\"auto\",\"active_inspect\":\"auto\",\"active_scroll\":\"auto\",\"active_tap\":\"auto\",\"tools\":[{\"id\":\"1489e6b1-5b70-4f5d-a2f4-dd6f2842c77b\",\"type\":\"PanTool\"},{\"id\":\"d87872ac-491d-43b9-8285-f232028aeb11\",\"type\":\"WheelZoomTool\"},{\"id\":\"6d9ce456-15cf-4e20-a724-ab4fb98c0464\",\"type\":\"BoxZoomTool\"},{\"id\":\"443e53a0-9de2-48fe-be76-a06b45358f76\",\"type\":\"SaveTool\"},{\"id\":\"c316716e-2fb4-45a0-9569-998127e54e65\",\"type\":\"ResetTool\"},{\"id\":\"9f3828ec-4309-446e-871c-fa20a48b36d9\",\"type\":\"HelpTool\"}]},\"id\":\"35d9df70-1da1-422f-9a0a-939bf35fccf2\",\"type\":\"Toolbar\"},{\"attributes\":{\"source\":{\"id\":\"a78a3525-8ff8-447c-83e0-51f42877140f\",\"type\":\"ColumnDataSource\"}},\"id\":\"a3c88f9a-08ae-4e1e-a3c6-b30930a80091\",\"type\":\"CDSView\"}],\"root_ids\":[\"027bf827-8759-4b7d-8e74-8b7b2cd72714\"]},\"title\":\"Bokeh Application\",\"version\":\"0.12.10\"}};\n",
       "    var render_items = [{\"docid\":\"c153b393-617e-4ee1-9b8f-7154c12cdf83\",\"elementid\":\"0369edca-ab6c-45de-a8ad-e7d70ab28b03\",\"modelid\":\"027bf827-8759-4b7d-8e74-8b7b2cd72714\",\"notebook_comms_target\":\"fe67191e-d1e1-4b14-8b2a-2b1d7eb1f04e\"}];\n",
       "\n",
       "    root.Bokeh.embed.embed_items(docs_json, render_items);\n",
       "  }\n",
       "\n",
       "  if (root.Bokeh !== undefined) {\n",
       "    embed_document(root);\n",
       "  } else {\n",
       "    var attempts = 0;\n",
       "    var timer = setInterval(function(root) {\n",
       "      if (root.Bokeh !== undefined) {\n",
       "        embed_document(root);\n",
       "        clearInterval(timer);\n",
       "      }\n",
       "      attempts++;\n",
       "      if (attempts > 100) {\n",
       "        console.log(\"Bokeh: ERROR: Unable to embed document because BokehJS library is missing\")\n",
       "        clearInterval(timer);\n",
       "      }\n",
       "    }, 10, root)\n",
       "  }\n",
       "})(window);"
      ],
      "application/vnd.bokehjs_exec.v0+json": ""
     },
     "metadata": {
      "application/vnd.bokehjs_exec.v0+json": {
       "id": "027bf827-8759-4b7d-8e74-8b7b2cd72714"
      }
     },
     "output_type": "display_data"
    },
    {
     "data": {
      "application/vnd.jupyter.widget-view+json": {
       "model_id": "434ed2c73a4c4a9ab46744eb93fe51fa",
       "version_major": 2,
       "version_minor": 0
      },
      "text/html": [
       "<p>Failed to display Jupyter Widget of type <code>interactive</code>.</p>\n",
       "<p>\n",
       "  If you're reading this message in Jupyter Notebook or JupyterLab, it may mean\n",
       "  that the widgets JavaScript is still loading. If this message persists, it\n",
       "  likely means that the widgets JavaScript library is either not installed or\n",
       "  not enabled. See the <a href=\"https://ipywidgets.readthedocs.io/en/stable/user_install.html\">Jupyter\n",
       "  Widgets Documentation</a> for setup instructions.\n",
       "</p>\n",
       "<p>\n",
       "  If you're reading this message in another notebook frontend (for example, a static\n",
       "  rendering on GitHub or <a href=\"https://nbviewer.jupyter.org/\">NBViewer</a>),\n",
       "  it may mean that your frontend doesn't currently support widgets.\n",
       "</p>\n"
      ],
      "text/plain": [
       "interactive(children=(FloatSlider(value=0.6, description='P1 of Retailer 1:', max=1.0, step=0.01), FloatSlider(value=0.3, description='P2 of Retailer 2:', max=1.0, step=0.01), Output()), _dom_classes=('widget-interact',))"
      ]
     },
     "metadata": {},
     "output_type": "display_data"
    },
    {
     "data": {
      "text/plain": [
       "<function __main__.update>"
      ]
     },
     "execution_count": 45,
     "metadata": {},
     "output_type": "execute_result"
    }
   ],
   "source": [
    "x = np.linspace(0, 1, 200) #theta\n",
    "Q1_func = lambdify((p1,p2,s),plot_Q1,modules=[\"numpy\",\"sympy\"])\n",
    "Q2_func = lambdify((p1,p2,s),plot_Q2,modules=[\"numpy\",\"sympy\"])\n",
    "Q0_func = lambdify((p1,p2,s),plot_Q0,modules=[\"numpy\",\"sympy\"])\n",
    "p = bk.figure(title=\"demand ~ price\", plot_height=250, plot_width=600, y_range=(0,1))\n",
    "r1 = p.line(x, Q1_func(0.6,0.3,x),color=\"green\",line_width=2,alpha=0.8,legend='Q1')\n",
    "r2 = p.line(x, Q2_func(0.6,0.3,x),color=\"navy\",line_width=2,alpha=0.3,legend='Q2')\n",
    "r3 = p.line(x, Q0_func(0.6,0.3,x),color=\"red\",line_width=2,alpha=0.2,legend='Q0')\n",
    "r4 = p.ray(x=[0.7],y=[0],angle=np.pi/2,length=0)\n",
    "p.legend.location = \"top_right\"\n",
    "p.legend.click_policy=\"hide\"\n",
    "p.xaxis.axis_label = 'θ'\n",
    "def update(p1 = 0.6, p2 = 0.3):\n",
    "    r1.data_source.data['y'] = Q1_func(p1,p2,x)\n",
    "    r2.data_source.data['y'] = Q2_func(p1,p2,x)\n",
    "    r3.data_source.data['y'] = Q0_func(p1,p2,x)\n",
    "    r4.data_source.data['x'] = [1-(p1-p2)]\n",
    "    push_notebook(handle = handle)\n",
    "handle = show(p, notebook_handle=True)\n",
    "interact(update, \n",
    "         p1=FloatSlider(min=0,max=1,step=0.01,value=0.6,description='P1 of Retailer 1:'),\n",
    "         p2=FloatSlider(min=0,max=1,step=0.01,value=0.3,description='P2 of Retailer 2:'))"
   ]
  },
  {
   "cell_type": "code",
   "execution_count": 44,
   "metadata": {},
   "outputs": [
    {
     "data": {
      "text/html": [
       "\n",
       "<div class=\"bk-root\">\n",
       "    <div class=\"bk-plotdiv\" id=\"d4281753-fc34-4eab-b4e2-a9aa1a00bdfa\"></div>\n",
       "</div>"
      ]
     },
     "metadata": {},
     "output_type": "display_data"
    },
    {
     "data": {
      "application/javascript": [
       "(function(root) {\n",
       "  function embed_document(root) {\n",
       "    var docs_json = {\"52dd3e65-c086-421f-9939-c47c34f02286\":{\"roots\":{\"references\":[{\"attributes\":{\"line_alpha\":{\"value\":0.3},\"line_color\":{\"value\":\"navy\"},\"line_width\":{\"value\":2},\"x\":{\"field\":\"x\"},\"y\":{\"field\":\"y\"}},\"id\":\"6c5cd433-393d-4b26-8437-1dfb45254613\",\"type\":\"Line\"},{\"attributes\":{\"formatter\":{\"id\":\"e3872094-21b0-4beb-8d22-6c1399fb76eb\",\"type\":\"BasicTickFormatter\"},\"plot\":{\"id\":\"842853fb-c8c9-4a55-8211-1993925a2550\",\"subtype\":\"Figure\",\"type\":\"Plot\"},\"ticker\":{\"id\":\"271d3a34-5c3a-4c76-bf3a-8e77a349459d\",\"type\":\"BasicTicker\"}},\"id\":\"1c16d094-0383-4643-81ef-f749be97586d\",\"type\":\"LinearAxis\"},{\"attributes\":{\"label\":{\"value\":\"U2\"},\"renderers\":[{\"id\":\"dbd79506-eec1-4f7b-ae7f-fc47e9166d1c\",\"type\":\"GlyphRenderer\"}]},\"id\":\"b9af1853-e24c-48c5-b7d9-7aa964f4edce\",\"type\":\"LegendItem\"},{\"attributes\":{\"line_alpha\":{\"value\":0.1},\"line_color\":{\"value\":\"#1f77b4\"},\"line_width\":{\"value\":2},\"x\":{\"field\":\"x\"},\"y\":{\"field\":\"y\"}},\"id\":\"35adb780-eb0e-4e19-b9d9-60c2b6672e8b\",\"type\":\"Line\"},{\"attributes\":{\"click_policy\":\"hide\",\"items\":[{\"id\":\"d3957e36-ac11-426e-9f38-c763fa7ac6c6\",\"type\":\"LegendItem\"},{\"id\":\"b9af1853-e24c-48c5-b7d9-7aa964f4edce\",\"type\":\"LegendItem\"}],\"plot\":{\"id\":\"842853fb-c8c9-4a55-8211-1993925a2550\",\"subtype\":\"Figure\",\"type\":\"Plot\"}},\"id\":\"9d2616aa-fa19-4a6f-8acf-dade15478761\",\"type\":\"Legend\"},{\"attributes\":{\"bottom_units\":\"screen\",\"fill_alpha\":{\"value\":0.5},\"fill_color\":{\"value\":\"lightgrey\"},\"left_units\":\"screen\",\"level\":\"overlay\",\"line_alpha\":{\"value\":1.0},\"line_color\":{\"value\":\"black\"},\"line_dash\":[4,4],\"line_width\":{\"value\":2},\"plot\":null,\"render_mode\":\"css\",\"right_units\":\"screen\",\"top_units\":\"screen\"},\"id\":\"2d604b9e-67de-4285-8001-e7213ecd40c9\",\"type\":\"BoxAnnotation\"},{\"attributes\":{\"data_source\":{\"id\":\"523b2da2-576e-4be1-aa09-f9d3ec2f6b2f\",\"type\":\"ColumnDataSource\"},\"glyph\":{\"id\":\"a001db95-410b-4e90-81aa-5536a458fe28\",\"type\":\"Line\"},\"hover_glyph\":null,\"muted_glyph\":null,\"nonselection_glyph\":{\"id\":\"174a62a0-71f8-4a23-b511-a2e0a93e29fd\",\"type\":\"Line\"},\"selection_glyph\":null,\"view\":{\"id\":\"9ce392be-0b46-4619-9157-4a3d5adf0334\",\"type\":\"CDSView\"}},\"id\":\"2741dece-e558-4940-b8d3-54fb2c244a8a\",\"type\":\"GlyphRenderer\"},{\"attributes\":{\"angle\":{\"units\":\"rad\",\"value\":1.5707963267948966},\"length\":{\"units\":\"data\",\"value\":0},\"line_color\":{\"value\":\"#1f77b4\"},\"x\":{\"field\":\"x\"},\"y\":{\"field\":\"y\"}},\"id\":\"b9f98e28-8b33-4b3a-80b1-f7faad85f081\",\"type\":\"Ray\"},{\"attributes\":{\"active_drag\":\"auto\",\"active_inspect\":\"auto\",\"active_scroll\":\"auto\",\"active_tap\":\"auto\",\"tools\":[{\"id\":\"946bb04e-d6a6-4d54-af70-e48c9e02b973\",\"type\":\"PanTool\"},{\"id\":\"c07eae88-7715-4931-9d3e-32233223d081\",\"type\":\"WheelZoomTool\"},{\"id\":\"33a3c709-5b38-4210-8bcf-0ae6938a8442\",\"type\":\"BoxZoomTool\"},{\"id\":\"74761d2c-7196-4027-a072-de0ce9473eeb\",\"type\":\"SaveTool\"},{\"id\":\"423188c4-cb96-4211-a00b-6e914d15ed00\",\"type\":\"ResetTool\"},{\"id\":\"13a88bd0-b045-4aa0-97b7-45499d1eab1f\",\"type\":\"HelpTool\"}]},\"id\":\"ceaa0209-12f5-44a5-9da1-403623baddd2\",\"type\":\"Toolbar\"},{\"attributes\":{\"callback\":null,\"column_names\":[\"x\",\"y\"],\"data\":{\"x\":[0.6],\"y\":[0]}},\"id\":\"027d2b54-e300-448a-a241-dc4d32f957dc\",\"type\":\"ColumnDataSource\"},{\"attributes\":{},\"id\":\"13a88bd0-b045-4aa0-97b7-45499d1eab1f\",\"type\":\"HelpTool\"},{\"attributes\":{},\"id\":\"423188c4-cb96-4211-a00b-6e914d15ed00\",\"type\":\"ResetTool\"},{\"attributes\":{\"source\":{\"id\":\"25de9b8e-2031-46f5-9ea6-5c506f37c3fc\",\"type\":\"ColumnDataSource\"}},\"id\":\"ba47fb8f-1a08-4176-8e13-5fa18bf97fc9\",\"type\":\"CDSView\"},{\"attributes\":{\"data_source\":{\"id\":\"027d2b54-e300-448a-a241-dc4d32f957dc\",\"type\":\"ColumnDataSource\"},\"glyph\":{\"id\":\"b9f98e28-8b33-4b3a-80b1-f7faad85f081\",\"type\":\"Ray\"},\"hover_glyph\":null,\"muted_glyph\":null,\"nonselection_glyph\":{\"id\":\"338639bd-fe79-4fe6-ab6b-4e56c62f2b26\",\"type\":\"Ray\"},\"selection_glyph\":null,\"view\":{\"id\":\"0675d622-79f5-4942-8ce6-a03e5dbd9878\",\"type\":\"CDSView\"}},\"id\":\"e7b3515d-cc96-4afa-9610-a3ed6c2e4ba6\",\"type\":\"GlyphRenderer\"},{\"attributes\":{},\"id\":\"1ac3ae00-0445-40b7-8229-0994e48075c4\",\"type\":\"BasicTickFormatter\"},{\"attributes\":{},\"id\":\"74761d2c-7196-4027-a072-de0ce9473eeb\",\"type\":\"SaveTool\"},{\"attributes\":{\"line_alpha\":{\"value\":0.1},\"line_color\":{\"value\":\"#1f77b4\"},\"line_width\":{\"value\":2},\"x\":{\"field\":\"x\"},\"y\":{\"field\":\"y\"}},\"id\":\"174a62a0-71f8-4a23-b511-a2e0a93e29fd\",\"type\":\"Line\"},{\"attributes\":{\"source\":{\"id\":\"027d2b54-e300-448a-a241-dc4d32f957dc\",\"type\":\"ColumnDataSource\"}},\"id\":\"0675d622-79f5-4942-8ce6-a03e5dbd9878\",\"type\":\"CDSView\"},{\"attributes\":{},\"id\":\"c07eae88-7715-4931-9d3e-32233223d081\",\"type\":\"WheelZoomTool\"},{\"attributes\":{\"plot\":null,\"text\":\"profit(Retailer) ~ price\"},\"id\":\"29af5547-c560-4b79-b9fd-765baa22388b\",\"type\":\"Title\"},{\"attributes\":{\"label\":{\"value\":\"U1\"},\"renderers\":[{\"id\":\"2741dece-e558-4940-b8d3-54fb2c244a8a\",\"type\":\"GlyphRenderer\"}]},\"id\":\"d3957e36-ac11-426e-9f38-c763fa7ac6c6\",\"type\":\"LegendItem\"},{\"attributes\":{\"below\":[{\"id\":\"81ee5d85-da8d-4321-b4ca-3e6ed101ef00\",\"type\":\"LinearAxis\"}],\"left\":[{\"id\":\"1c16d094-0383-4643-81ef-f749be97586d\",\"type\":\"LinearAxis\"}],\"plot_height\":250,\"renderers\":[{\"id\":\"81ee5d85-da8d-4321-b4ca-3e6ed101ef00\",\"type\":\"LinearAxis\"},{\"id\":\"6e57e11a-e4ed-4ef3-ab3a-fede0f2813f3\",\"type\":\"Grid\"},{\"id\":\"1c16d094-0383-4643-81ef-f749be97586d\",\"type\":\"LinearAxis\"},{\"id\":\"94447e37-4df4-4770-91ee-d7d88be1018d\",\"type\":\"Grid\"},{\"id\":\"2d604b9e-67de-4285-8001-e7213ecd40c9\",\"type\":\"BoxAnnotation\"},{\"id\":\"9d2616aa-fa19-4a6f-8acf-dade15478761\",\"type\":\"Legend\"},{\"id\":\"2741dece-e558-4940-b8d3-54fb2c244a8a\",\"type\":\"GlyphRenderer\"},{\"id\":\"dbd79506-eec1-4f7b-ae7f-fc47e9166d1c\",\"type\":\"GlyphRenderer\"},{\"id\":\"e7b3515d-cc96-4afa-9610-a3ed6c2e4ba6\",\"type\":\"GlyphRenderer\"}],\"title\":{\"id\":\"29af5547-c560-4b79-b9fd-765baa22388b\",\"type\":\"Title\"},\"toolbar\":{\"id\":\"ceaa0209-12f5-44a5-9da1-403623baddd2\",\"type\":\"Toolbar\"},\"x_range\":{\"id\":\"af86cfb3-0c3f-4895-9980-c1f7f7de782f\",\"type\":\"DataRange1d\"},\"x_scale\":{\"id\":\"5837755c-9d9f-43f1-806a-0e1e93bd4388\",\"type\":\"LinearScale\"},\"y_range\":{\"id\":\"aadd25dd-f5b5-49eb-bbbb-b2368797f2a6\",\"type\":\"Range1d\"},\"y_scale\":{\"id\":\"39905acd-63b2-4067-af18-097011f59043\",\"type\":\"LinearScale\"}},\"id\":\"842853fb-c8c9-4a55-8211-1993925a2550\",\"subtype\":\"Figure\",\"type\":\"Plot\"},{\"attributes\":{},\"id\":\"8128af70-f598-4696-9d1f-8024afe12bbd\",\"type\":\"BasicTicker\"},{\"attributes\":{\"dimension\":1,\"plot\":{\"id\":\"842853fb-c8c9-4a55-8211-1993925a2550\",\"subtype\":\"Figure\",\"type\":\"Plot\"},\"ticker\":{\"id\":\"271d3a34-5c3a-4c76-bf3a-8e77a349459d\",\"type\":\"BasicTicker\"}},\"id\":\"94447e37-4df4-4770-91ee-d7d88be1018d\",\"type\":\"Grid\"},{\"attributes\":{\"angle\":{\"units\":\"rad\",\"value\":1.5707963267948966},\"length\":{\"units\":\"data\",\"value\":0},\"line_alpha\":{\"value\":0.1},\"line_color\":{\"value\":\"#1f77b4\"},\"x\":{\"field\":\"x\"},\"y\":{\"field\":\"y\"}},\"id\":\"338639bd-fe79-4fe6-ab6b-4e56c62f2b26\",\"type\":\"Ray\"},{\"attributes\":{},\"id\":\"946bb04e-d6a6-4d54-af70-e48c9e02b973\",\"type\":\"PanTool\"},{\"attributes\":{\"plot\":{\"id\":\"842853fb-c8c9-4a55-8211-1993925a2550\",\"subtype\":\"Figure\",\"type\":\"Plot\"},\"ticker\":{\"id\":\"8128af70-f598-4696-9d1f-8024afe12bbd\",\"type\":\"BasicTicker\"}},\"id\":\"6e57e11a-e4ed-4ef3-ab3a-fede0f2813f3\",\"type\":\"Grid\"},{\"attributes\":{\"source\":{\"id\":\"523b2da2-576e-4be1-aa09-f9d3ec2f6b2f\",\"type\":\"ColumnDataSource\"}},\"id\":\"9ce392be-0b46-4619-9157-4a3d5adf0334\",\"type\":\"CDSView\"},{\"attributes\":{\"line_alpha\":{\"value\":0.8},\"line_color\":{\"value\":\"green\"},\"line_width\":{\"value\":2},\"x\":{\"field\":\"x\"},\"y\":{\"field\":\"y\"}},\"id\":\"a001db95-410b-4e90-81aa-5536a458fe28\",\"type\":\"Line\"},{\"attributes\":{\"overlay\":{\"id\":\"2d604b9e-67de-4285-8001-e7213ecd40c9\",\"type\":\"BoxAnnotation\"}},\"id\":\"33a3c709-5b38-4210-8bcf-0ae6938a8442\",\"type\":\"BoxZoomTool\"},{\"attributes\":{\"callback\":null},\"id\":\"af86cfb3-0c3f-4895-9980-c1f7f7de782f\",\"type\":\"DataRange1d\"},{\"attributes\":{},\"id\":\"e3872094-21b0-4beb-8d22-6c1399fb76eb\",\"type\":\"BasicTickFormatter\"},{\"attributes\":{\"axis_label\":\"\\u03b8\",\"formatter\":{\"id\":\"1ac3ae00-0445-40b7-8229-0994e48075c4\",\"type\":\"BasicTickFormatter\"},\"plot\":{\"id\":\"842853fb-c8c9-4a55-8211-1993925a2550\",\"subtype\":\"Figure\",\"type\":\"Plot\"},\"ticker\":{\"id\":\"8128af70-f598-4696-9d1f-8024afe12bbd\",\"type\":\"BasicTicker\"}},\"id\":\"81ee5d85-da8d-4321-b4ca-3e6ed101ef00\",\"type\":\"LinearAxis\"},{\"attributes\":{},\"id\":\"39905acd-63b2-4067-af18-097011f59043\",\"type\":\"LinearScale\"},{\"attributes\":{\"data_source\":{\"id\":\"25de9b8e-2031-46f5-9ea6-5c506f37c3fc\",\"type\":\"ColumnDataSource\"},\"glyph\":{\"id\":\"6c5cd433-393d-4b26-8437-1dfb45254613\",\"type\":\"Line\"},\"hover_glyph\":null,\"muted_glyph\":null,\"nonselection_glyph\":{\"id\":\"35adb780-eb0e-4e19-b9d9-60c2b6672e8b\",\"type\":\"Line\"},\"selection_glyph\":null,\"view\":{\"id\":\"ba47fb8f-1a08-4176-8e13-5fa18bf97fc9\",\"type\":\"CDSView\"}},\"id\":\"dbd79506-eec1-4f7b-ae7f-fc47e9166d1c\",\"type\":\"GlyphRenderer\"},{\"attributes\":{},\"id\":\"5837755c-9d9f-43f1-806a-0e1e93bd4388\",\"type\":\"LinearScale\"},{\"attributes\":{\"callback\":null,\"column_names\":[\"x\",\"y\"],\"data\":{\"x\":{\"__ndarray__\":\"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\",\"dtype\":\"float64\",\"shape\":[200]},\"y\":{\"__ndarray__\":\"AAAAAAAAAAAAAAAAAAAAAAAAAAAAAAAAAAAAAAAAAAAAAAAAAAAAAAAAAAAAAAAAAAAAAAAAAAAAAAAAAAAAAAAAAAAAAAAAAAAAAAAAAAAAAAAAAAAAAAAAAAAAAAAAAAAAAAAAAAAAAAAAAAAAAAAAAAAAAAAAAAAAAAAAAAAAAAAAAAAAAAAAAAAAAAAAAAAAAAAAAAAAAAAAAAAAAAAAAAAAAAAAAAAAAAAAAAAAAAAAAAAAAAAAAAAAAAAAAAAAAAAAAAAAAAAAAAAAAAAAAAAAAAAAAAAAAAAAAAAAAAAAAAAAAAAAAAAAAAAAAAAAAAAAAAAAAAAAAAAAAAAAAAAAAAAAAAAAAAAAAAAAAAAAAAAAAAAAAAAAAAAAAAAAAAAAAAAAAAAAAAAAAAAAAAAAAAAAAAAAAAAAAAAAAAAAAAAAAAAAAAAAAAAAAAAAAAAAAAAAAAAAAAAAAAAAAAAAAAAAAAAAAAAAAAAAAAAAAAAAAAAAAAAAAAAAAAAAAAAAAAAAAAAAAAAAAAAAAAAAAAAAAAAAAAAAAAAAAAAAAAAAAAAAAAAAAAAAAAAAAAAAAAAAAAAAAAAAAAAAAAAAAAAAAAAAAAAAAAAAAAAAAAAAAAAAAAAAAAAAAAAAAAAAAAAAAAAAAAAAAAAAAAAAAAAAAAAAAAAAAAAAAAAAAAAAAAAAAAAAAAAAAAAAAAAAAAAAAAAAAAAAAAAAAAAAAAAAAAAAAAAAAAAAAAAAAAAAAAAAAAAAAAAAAAAAAAAAAAAAAAAAAAAAAAAAAAAAAAAAAAAAAAAAAAAAAAAAAAAAAAAAAAAAAAAAAAAAAAAAAAAAAAAAAAAAAAAAAAAAAAAAAAAAAAAAAAAAAAAAAAAAAAAAAAAAAAAAAAAAAAAAAAAAAAAAAAAAAAAAAAAAAAAAAAAAAAAAAAAAAAAAAAAAAAAAAAAAAAAAAAAAAAAAAAAAAAAAAAAAAAAAAAAAAAAAAAAAAAAAAAAAAAAAAAAAAAAAAAAAAAAAAAAAAAAAAAAAAAAAAAAAAAAAAAAAAAAAAAAAAAAAAABnogq3lcJDP81OShNppV0/ANQtzBC3aD+NCWAmok9xP5rAWJBtRnY/jfwmFbJAez/H/Lp6nB+AP8DJPtZmoYI/zbi/Lh8mhT9auBsiLq6HP60sYRT+OYo/7U7Ca/vJjD8AV9HOlF6PP3NbqbId/JA/7e37jbFLkj+kZK11QZ6TP/rITJEK9JQ/JyD82ktNlj8AI/xIRqqXPwcUr/k8C5k/6nVUYnVwmj+fe8WAN9qbP2/jgBDOSJ0/GqJcw4a8nj/LNx4/2RqgP6UEG81S2qA/M4BLFdycoT8yKiYko2KiP7kPnTHYK6M/JLsQza34oz+zR+IMWcmkP3zQBsIRnqU/+AAKsBJ3pj/MsfrJmVSnP+h2y3ToNqg/3RrCz0MeqT+cjqQD9QqqP2o4aJlJ/ao/9D9C2ZP1qz90BhUzK/SsP0oOWbFs+a0/ZfbGd7sFrz/z45qnwAywPxriKqCXmrA/x76WH58ssT9bcsP0F8OxP/oGZ61HXrI/VQsjDHn+sj9YUnaM/KOzP9K3dvYoT7Q/dbGUBFwAtT/6tgoe+7e1P40+DSl0drY/5C5ZeD48tz/fOWPY2wm4P0jPMMHZ37g/oBDTstK+uT+gSJ/Db6e6P/hoo2hqmrs/3PCHgo6YvD932ye7vKK9Pxo1vULtub4/8v23/jLfvz+Y5Syg34nAP2/2Hg9zLME/QMgsyRHYwT/UkBDDkI3CP7W6dYDfTcM/rHwOXQwaxD8SpQ+xSfPEP4cmCAb02sU/x4YroJnSxj+PFVO0A9zHP/ZkIr5B+cg/ovyqjrcsyj88k7TeLnnLP43id3bt4cw/nOoqYNFqzj/f+3yUOgzQPxBvI4Ev+NA/cNB7Yp/80T/BrkJQoB3TP3k+YHw+YNQ/29RcG8nK1T+4tjQQPmXXPyf/Or3jOdk/0nXs0ilW2z/HESmG+svdP5RZudrhWeA/754NX9wX4j//wHEaoDjkP6zjhvQ54eY/teIrvuJL6j/CGHXJo9nuP8irmLWTnPI/t6NZH+Fj9z88y5R4R1r/P5yBvls3owdAJXompGfCF0AAAAAAAADwfw==\",\"dtype\":\"float64\",\"shape\":[200]}}},\"id\":\"25de9b8e-2031-46f5-9ea6-5c506f37c3fc\",\"type\":\"ColumnDataSource\"},{\"attributes\":{\"callback\":null,\"column_names\":[\"x\",\"y\"],\"data\":{\"x\":{\"__ndarray__\":\"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\",\"dtype\":\"float64\",\"shape\":[200]},\"y\":{\"__ndarray__\":\"uB6F61G4vj+4HoXrUbi+P7gehetRuL4/uB6F61G4vj+4HoXrUbi+P7gehetRuL4/uB6F61G4vj+4HoXrUbi+P7gehetRuL4/uB6F61G4vj+4HoXrUbi+P7gehetRuL4/uB6F61G4vj+4HoXrUbi+P7gehetRuL4/uB6F61G4vj+4HoXrUbi+P7gehetRuL4/uB6F61G4vj+4HoXrUbi+P7gehetRuL4/uB6F61G4vj+4HoXrUbi+P7gehetRuL4/uB6F61G4vj+4HoXrUbi+P7gehetRuL4/uB6F61G4vj+4HoXrUbi+P7gehetRuL4/uB6F61G4vj+4HoXrUbi+P7gehetRuL4/uB6F61G4vj+4HoXrUbi+P7gehetRuL4/uB6F61G4vj+4HoXrUbi+P7gehetRuL4/uB6F61G4vj+4HoXrUbi+P7gehetRuL4/uB6F61G4vj+4HoXrUbi+P7gehetRuL4/uB6F61G4vj+4HoXrUbi+P7gehetRuL4/uB6F61G4vj+4HoXrUbi+P7gehetRuL4/uB6F61G4vj+4HoXrUbi+P7gehetRuL4/uB6F61G4vj+4HoXrUbi+P7gehetRuL4/uB6F61G4vj+4HoXrUbi+P7gehetRuL4/uB6F61G4vj+4HoXrUbi+P7gehetRuL4/uB6F61G4vj+4HoXrUbi+P7gehetRuL4/uB6F61G4vj+4HoXrUbi+P7gehetRuL4/uB6F61G4vj+4HoXrUbi+P7gehetRuL4/uB6F61G4vj+4HoXrUbi+P7gehetRuL4/uB6F61G4vj+4HoXrUbi+P7gehetRuL4/uB6F61G4vj+4HoXrUbi+P7gehetRuL4/uB6F61G4vj+4HoXrUbi+P7gehetRuL4/uB6F61G4vj+4HoXrUbi+P7gehetRuL4/uB6F61G4vj+4HoXrUbi+P7gehetRuL4/uB6F61G4vj+4HoXrUbi+P7gehetRuL4/uB6F61G4vj+4HoXrUbi+P7gehetRuL4/uB6F61G4vj+4HoXrUbi+P7gehetRuL4/uB6F61G4vj9/3svnvXy+P3eIW/rCA74/+POBeUmIvT8L16NwPQq9P+mADBSKibw/Q9d8tRkGvD+BW/231X+7P33X5IKm9ro/DQ0EdHNquj9BYOXQItu5P/nrDbeZSLk/tMArC7yyuD9hMBtnbBm4P/X7qgaMfLc/dfAEs/rbtj8S/Z2slje2P8AAjpM8j7U/43QsTsfitD+HqcvtDzK0P65yaJHtfLM/9uIfRjXDsj8Z7TfluQSyP9R1gu9LQbE/823cZbl4sD9JyAc9m1WvPxkO8S2irq0/XlkjhBL8qz9ACtejcD2qP835hPo5cqg/DqePf+SZpj8Tttkp3rOkP8XyJVmMv6I/OTH6MUu8oD9TnS3V2VKdP2MBzw5yDJk/lnA9CtejlD+2NOTcZxeQP+AWrWzRyoY/DUCXrwIwej9mfmq8dJNYP2aoaHdwKG2/je7sXR4Cgr8AOEiOaBqNvyar5Y0RTJS/c02gPWtAmr850GkDnTagv2CwiwHYaqO/gAUlHZ++pr82mgBnzTOqv2MgQfFjzK2/47sV2EbFsL/AHoXrUbiyv0Ye02GZwLS/0x0Dx3/ftr9JDAIrhxa5v2lLdbZUZ7u/7NR2v7TTvb9Raci5zy7Av4PxORifg8G/uPP91Hjpwr9ReS6BrGHEv3r4iQCt7cW/Vd9tTxWPx79G4XoUrkfJv9+SniZ0Gcu/C23TOaAGzb8Y/xrxrxHPvx2F61G4ntC/xWFoHIbG0b82XrpJDALTvyECEhlVU9S/nejvZLW81b89pw102kDXv5N0fPra4ti/THuDL0ym2r+TwvUoXI/cvyTCtBbzot6/cOw2x25z4L9Czn12AbHhv3WTGARWDuO/15XeGXCQ5L9DCtejcD3mvxhQg7bpHOi/th6F61E46r/Q91PjpZvsvzaCif5OVu+/GwcLSjo+8b8QrkfhehTzvz25A5Q7QPW/QmDl0CLb978P16NwPQr7v5DrUbgeBf+/eCer5Y0RAsB3FK5H4XoFwKnGSzeJQQrA+yhcj8K1EMDCR+F6FK4WwLHC9ShcTyHARo/C9SicMcAAAAAAAADw/w==\",\"dtype\":\"float64\",\"shape\":[200]}}},\"id\":\"523b2da2-576e-4be1-aa09-f9d3ec2f6b2f\",\"type\":\"ColumnDataSource\"},{\"attributes\":{\"callback\":null},\"id\":\"aadd25dd-f5b5-49eb-bbbb-b2368797f2a6\",\"type\":\"Range1d\"},{\"attributes\":{},\"id\":\"271d3a34-5c3a-4c76-bf3a-8e77a349459d\",\"type\":\"BasicTicker\"}],\"root_ids\":[\"842853fb-c8c9-4a55-8211-1993925a2550\"]},\"title\":\"Bokeh Application\",\"version\":\"0.12.10\"}};\n",
       "    var render_items = [{\"docid\":\"52dd3e65-c086-421f-9939-c47c34f02286\",\"elementid\":\"d4281753-fc34-4eab-b4e2-a9aa1a00bdfa\",\"modelid\":\"842853fb-c8c9-4a55-8211-1993925a2550\",\"notebook_comms_target\":\"38bdb399-6510-4fcc-83e5-316843cb751c\"}];\n",
       "\n",
       "    root.Bokeh.embed.embed_items(docs_json, render_items);\n",
       "  }\n",
       "\n",
       "  if (root.Bokeh !== undefined) {\n",
       "    embed_document(root);\n",
       "  } else {\n",
       "    var attempts = 0;\n",
       "    var timer = setInterval(function(root) {\n",
       "      if (root.Bokeh !== undefined) {\n",
       "        embed_document(root);\n",
       "        clearInterval(timer);\n",
       "      }\n",
       "      attempts++;\n",
       "      if (attempts > 100) {\n",
       "        console.log(\"Bokeh: ERROR: Unable to embed document because BokehJS library is missing\")\n",
       "        clearInterval(timer);\n",
       "      }\n",
       "    }, 10, root)\n",
       "  }\n",
       "})(window);"
      ],
      "application/vnd.bokehjs_exec.v0+json": ""
     },
     "metadata": {
      "application/vnd.bokehjs_exec.v0+json": {
       "id": "842853fb-c8c9-4a55-8211-1993925a2550"
      }
     },
     "output_type": "display_data"
    },
    {
     "data": {
      "application/vnd.jupyter.widget-view+json": {
       "model_id": "86208eb4ceae4a39b86d5fab52450ca6",
       "version_major": 2,
       "version_minor": 0
      },
      "text/html": [
       "<p>Failed to display Jupyter Widget of type <code>interactive</code>.</p>\n",
       "<p>\n",
       "  If you're reading this message in Jupyter Notebook or JupyterLab, it may mean\n",
       "  that the widgets JavaScript is still loading. If this message persists, it\n",
       "  likely means that the widgets JavaScript library is either not installed or\n",
       "  not enabled. See the <a href=\"https://ipywidgets.readthedocs.io/en/stable/user_install.html\">Jupyter\n",
       "  Widgets Documentation</a> for setup instructions.\n",
       "</p>\n",
       "<p>\n",
       "  If you're reading this message in another notebook frontend (for example, a static\n",
       "  rendering on GitHub or <a href=\"https://nbviewer.jupyter.org/\">NBViewer</a>),\n",
       "  it may mean that your frontend doesn't currently support widgets.\n",
       "</p>\n"
      ],
      "text/plain": [
       "interactive(children=(FloatSlider(value=0.6, description='P1 of Retailer 1:', max=1.0, step=0.01), FloatSlider(value=0.3, description='P2 of Retailer 2:', max=1.0, step=0.01), FloatSlider(value=0.3, description='W of Manufactuer:', max=1.0, step=0.01), Output()), _dom_classes=('widget-interact',))"
      ]
     },
     "metadata": {},
     "output_type": "display_data"
    },
    {
     "data": {
      "text/plain": [
       "<function __main__.update>"
      ]
     },
     "execution_count": 44,
     "metadata": {},
     "output_type": "execute_result"
    }
   ],
   "source": [
    "# w = 0.2, p1 = 0.6, p2 = 0.3 initialization\n",
    "p_ = bk.figure(title=\"profit(Retailer) ~ price\", plot_height=250, plot_width=600, y_range=(0,1))\n",
    "r1_ = p_.line(x, Q1_func(0.6,0.3,x)*0.3,color=\"green\",line_width=2,alpha=0.8,legend='U1')\n",
    "r2_ = p_.line(x, Q2_func(0.6,0.3,x)*0.1,color=\"navy\",line_width=2,alpha=0.3,legend='U2')\n",
    "r3_ = p_.ray(x=[0.6],y=[0],angle=np.pi/2,length=0)\n",
    "p_.legend.location = \"top_right\"\n",
    "p_.legend.click_policy=\"hide\"\n",
    "p_.xaxis.axis_label = 'θ'\n",
    "def update(p1 = 0.6, p2 = 0.3, w=0.2):\n",
    "    r1_.data_source.data['y'] = Q1_func(p1,p2,x)*(p1-w)\n",
    "    r2_.data_source.data['y'] = Q2_func(p1,p2,x)*(p2-w)\n",
    "    r3_.data_source.data['x'] = [1-(p1-p2)]\n",
    "    push_notebook(handle=handle_)\n",
    "handle_ = show(p_, notebook_handle=True)\n",
    "interact(update, \n",
    "         p1=FloatSlider(min=0,max=1,step=0.01,value=0.6,description='P1 of Retailer 1:'),\n",
    "         p2=FloatSlider(min=0,max=1,step=0.01,value=0.3,description='P2 of Retailer 2:'),\n",
    "         w=FloatSlider(min=0,max=1,step=0.01,value=0.3,description='W of Manufactuer:'))"
   ]
  },
  {
   "cell_type": "markdown",
   "metadata": {},
   "source": [
    "- 我觉得比较诡异的是：\n",
    "1. 当第二个商店越来越受欢迎的时候 (i.e., $\\theta \\rightarrow 1$), 只要$P_1$比$P_2$大一点点就存在第一个商店（更受欢迎）卖不出去一样东西\n",
    "2. 当$\\theta \\geq P_2/\\theta, \\text{ and } \\theta \\rightarrow 1$ 时，拒绝购买的人数减少。但是当$Q_1$降到0的时候，应该就是下降的顶峰了吧\n",
    "- 接下来研究当只有一个channel的时候最优决策产生的utility"
   ]
  },
  {
   "cell_type": "markdown",
   "metadata": {
    "collapsed": true
   },
   "source": [
    "## 只有一个零售渠道$R$，那么对于$R$来说，在给定进货价格$w$情况下，最大化利润函数\n",
    "\\begin{align*}\n",
    "\\pi_r =& (1-p_r)(p_r-w)\\\\ \n",
    "p_r^* =& \\frac{1+w}{2}  \n",
    "\\end{align*}\n",
    "\n",
    "## 所以对于供货商而言，在已知$p_r^*=\\frac{1+w}{2}$时，利润函数等于\n",
    "\\begin{align*}\n",
    "\\pi_m =& (1-p_r)(w-c) \\\\ \n",
    "=& (1-\\frac{1+w}{2})(w-c) \\\\\n",
    "w^* =& \\frac{1+c}{2} \\\\\n",
    "\\pi_m^*=&\\frac{(1-c)^2}{8}\n",
    "\\end{align*}"
   ]
  },
  {
   "cell_type": "markdown",
   "metadata": {},
   "source": [
    "# Introduce another channel with less reputation $R_2$ \n",
    "# case 1: no differentiation of wholesale price"
   ]
  },
  {
   "cell_type": "code",
   "execution_count": 18,
   "metadata": {
    "collapsed": true
   },
   "outputs": [],
   "source": [
    "# scenario 1: when both R1 and R2 have demand (p1 and p2 do not differ too much or too little)\n",
    "# v2 < v1 <v12 ==> p1 > p2/theta\n",
    "# ------------------------------------------------------------------------------#\n",
    "U1 = (p1-w)*Q1_1; U2 = (p2-w)*Q2_1\n",
    "temp = solve([diff(U1, p1),diff(U2,p2)],[p1,p2])\n",
    "best_p1 = temp[p1]; best_p2 = temp[p2]\n",
    "# verify p1* - p2* / theta > 0"
   ]
  },
  {
   "cell_type": "markdown",
   "metadata": {},
   "source": [
    "## 如果$p_1$ 和 $p_2$差太多，那么$R_1$失去吸引力；如果差价太少，则$R_2$失去吸引力\n",
    "## 所以先考虑当两者差价刚刚好，保证两个渠道针对不同类型客户`unif(0,1)valuation`都能卖出东西的时候\n",
    "\n",
    "\\begin{align*}\n",
    "\\pi_1 =& (p_1-w)(1-\\frac{p_1-p_2}{1-\\theta}) \\\\\n",
    "\\pi_2 =& (p_2-w)(\\frac{p_1-p_2}{1-\\theta}-\\frac{p_2}{\\theta})\n",
    "\\end{align*}\n",
    "\n",
    "## 同时优化两个方程得到关于$w$的最优解\n",
    "\n",
    "\\begin{align*}\n",
    "p_2^* =& \\frac{-\\theta^2+(1+w)\\theta+2w}{4-\\theta} \\\\\n",
    "p_1^* =& \\frac{-2\\theta+3w+2}{4-\\theta}\n",
    "\\end{align*}\n",
    "\n",
    "## 验证最优解成立的条件\n",
    "\n",
    "\\begin{align*}p_{2}^{*}-w\\geq0 & \\Rightarrow\\frac{(1-\\theta)(\\theta-2w)}{4-\\theta}\\geq0 & \\Rightarrow\\theta\\geq2w\\\\\n",
    "p_{1}^{*}-w\\geq0 & \\Rightarrow\\frac{(1-\\theta)(2-w)}{4-\\theta}\\geq0 & \\Rightarrow any\\ \\theta\\\\\n",
    "p_{1}^{*}-\\frac{p_{2}^{*}}{\\theta}>0 & \\Rightarrow\\frac{(1-\\theta)(\\theta-2w)}{\\theta(4-\\theta)}>0 & \\Rightarrow\\theta>2w\n",
    "\\end{align*}\n",
    "\n",
    "- We have $\\theta>2w$\n",
    "to guarantee both retailer respond this way. Also because $1\\geq p_{1}\\geq\\frac{p_{2}}{\\theta}\\geq\\frac{w}{\\theta}$,\n",
    "we have $w\\leq\\theta$\n",
    "\n",
    "- 所以如果$2w\\leq\\theta$,我们可以求得最优解，但在$\\left[w,2w\\right]$区间上，零售商应该做出什么决策呢？ \n",
    "- 答案是没有均衡解，在这种情况下，作为生产商，我们希望规避这种情况（因为没法做出最优决策），所以在做决策时，作为生产商，有一个条件是 $w \\leq \\frac{\\theta}{2}$\n"
   ]
  },
  {
   "cell_type": "code",
   "execution_count": null,
   "metadata": {
    "collapsed": true
   },
   "outputs": [],
   "source": [
    "# scenario 1: when both R1 and R2 have demand (p1 and p2 do not differ too much or too little)\n",
    "# consider when w <= theta <= 2w, which means another store is considerably weak\n",
    "# ------------------------------------------------------------------------------#\n",
    "# U1_ = U1.subs({p1:p2/s}); U2_ = U2.subs({p1:p2/s})"
   ]
  },
  {
   "cell_type": "markdown",
   "metadata": {},
   "source": [
    "## scenario 2: when only R1 has positive demand. \n",
    "## $v_1 < v_2 < v_{12} \\Rightarrow \\frac{p_2}{\\theta} > p_1$\n",
    "## $p_1^* = \\frac{1+w}{2}$ This reduces to monopoly game where only one channel is open. 这种情况就是单通道"
   ]
  },
  {
   "cell_type": "code",
   "execution_count": 70,
   "metadata": {},
   "outputs": [],
   "source": [
    "# now we move on to manufacturer side\n",
    "best_p1 = temp[p1]; best_p2 = temp[p2]\n",
    "best_Q1 = Q1_1.subs({p1:best_p1, p2:best_p2}); best_Q2 = Q2_1.subs({p1:best_p1, p2:best_p2})\n",
    "Um = best_Q1*(w-c1)+best_Q2*(w-c2); lagUm = Um + l1*(w-s/2) #require lambda to be nonpositive\n",
    "# print(latex(factor(solve(diff(lagUm,w),w),s)))\n"
   ]
  },
  {
   "cell_type": "code",
   "execution_count": 64,
   "metadata": {},
   "outputs": [
    {
     "name": "stdout",
     "output_type": "stream",
     "text": [
      "⎡c₁⋅θ + 2⋅c₂ + 3⋅θ⎤\n",
      "⎢─────────────────⎥\n",
      "⎣    2⋅(θ + 2)    ⎦\n"
     ]
    }
   ],
   "source": [
    "pprint(solve(diff(Um, w),w))"
   ]
  },
  {
   "cell_type": "markdown",
   "metadata": {},
   "source": [
    "## 对于供货商而言，当$R_1$和$R_2$存在Nash Equilibrium的反应函数的时候，制造商的utility是\n",
    "$$\\frac{1}{\\theta\\left(4-\\theta\\right)}\\left(-w^{2}\\left(\\theta+2\\right)+w(c_{1}\\theta+2c_{2}+3\\theta)-(2c_{1}\\theta+c_{2}\\theta)\\right)$$\n",
    "## 这是一个关于$w$的concave函数，因此存在$arg\\max_{w}U_{m}$，但是由于供货商希望得到零售商的均衡反应函数，所以要求$w \\leq \\frac{\\theta}{2}$ 所以我们得到 Lagrangian Dual Problem\n",
    "$$L(w,\\lambda)=\\text{sup}\\left\\{ U_{m}+\\lambda(w-\\frac{\\theta}{2}\\right\\} :\\ w\\in\\mathbb{R}$$\n",
    "## 对$w$求导，得到关于$w, \\lambda$的关系式\n",
    "$$w^*=\\frac{1}{2\\theta+4}\\left(2c_{2}-\\lambda_{1}\\theta^{2}+\\theta\\left(c_{1}+4\\lambda_{1}+3\\right)\\right)$$"
   ]
  },
  {
   "cell_type": "code",
   "execution_count": 63,
   "metadata": {},
   "outputs": [
    {
     "name": "stdout",
     "output_type": "stream",
     "text": [
      "\\frac{1}{\\theta \\left(\\theta - 4\\right)} \\left(2 c_{1} \\theta + c_{2} \\theta + w^{2} \\left(\\theta + 2\\right) + w \\left(- c_{1} \\theta - 2 c_{2} - 3 \\theta\\right)\\right)\n"
     ]
    }
   ],
   "source": [
    "print(latex(factor(Um,w)))"
   ]
  },
  {
   "cell_type": "code",
   "execution_count": 72,
   "metadata": {},
   "outputs": [
    {
     "name": "stdout",
     "output_type": "stream",
     "text": [
      "\\left [ - \\frac{1}{2 \\theta + 4} \\left(- 2 c_{2} + \\lambda_{1} \\theta^{2} + \\theta \\left(- c_{1} - 4 \\lambda_{1} - 3\\right)\\right)\\right ]\n"
     ]
    }
   ],
   "source": [
    "print(latex(factor(solve(diff(lagUm,w),w),s)))"
   ]
  },
  {
   "cell_type": "markdown",
   "metadata": {},
   "source": [
    "$$L(w,\\lambda)=\\text{sup}\\left\\{ U_{m}+\\lambda(w-\\frac{\\theta}{2}\\right\\}$$"
   ]
  },
  {
   "cell_type": "code",
   "execution_count": 78,
   "metadata": {},
   "outputs": [
    {
     "ename": "NameError",
     "evalue": "name 'ipywidgets' is not defined",
     "output_type": "error",
     "traceback": [
      "\u001b[1;31m---------------------------------------------------------------------------\u001b[0m",
      "\u001b[1;31mNameError\u001b[0m                                 Traceback (most recent call last)",
      "\u001b[1;32m<ipython-input-78-543a232625be>\u001b[0m in \u001b[0;36m<module>\u001b[1;34m()\u001b[0m\n\u001b[1;32m----> 1\u001b[1;33m \u001b[0mprint\u001b[0m \u001b[1;33m(\u001b[0m\u001b[0mipywidgets\u001b[0m\u001b[1;33m.\u001b[0m\u001b[0m__version__\u001b[0m\u001b[1;33m)\u001b[0m\u001b[1;33m\u001b[0m\u001b[0m\n\u001b[0m",
      "\u001b[1;31mNameError\u001b[0m: name 'ipywidgets' is not defined"
     ]
    }
   ],
   "source": [
    "from ipywidgets import StaticInteract, RangeWidget, RadioWidget"
   ]
  },
  {
   "cell_type": "code",
   "execution_count": 82,
   "metadata": {},
   "outputs": [
    {
     "ename": "ImportError",
     "evalue": "cannot import name 'StaticInteract'",
     "output_type": "error",
     "traceback": [
      "\u001b[1;31m---------------------------------------------------------------------------\u001b[0m",
      "\u001b[1;31mImportError\u001b[0m                               Traceback (most recent call last)",
      "\u001b[1;32m<ipython-input-82-e8fa3717fa8c>\u001b[0m in \u001b[0;36m<module>\u001b[1;34m()\u001b[0m\n\u001b[1;32m----> 1\u001b[1;33m \u001b[1;32mfrom\u001b[0m \u001b[0mipywidgets\u001b[0m \u001b[1;32mimport\u001b[0m \u001b[0mStaticInteract\u001b[0m\u001b[1;33m,\u001b[0m \u001b[0mRangeWidget\u001b[0m\u001b[1;33m,\u001b[0m \u001b[0mRadioWidget\u001b[0m\u001b[1;33m\u001b[0m\u001b[0m\n\u001b[0m",
      "\u001b[1;31mImportError\u001b[0m: cannot import name 'StaticInteract'"
     ]
    }
   ],
   "source": [
    "from ipywidgets import StaticInteract, RangeWidget, RadioWidget\n"
   ]
  },
  {
   "cell_type": "code",
   "execution_count": 81,
   "metadata": {},
   "outputs": [
    {
     "data": {
      "text/plain": [
       "'7.0.1'"
      ]
     },
     "execution_count": 81,
     "metadata": {},
     "output_type": "execute_result"
    }
   ],
   "source": [
    "ipywidgets.__version__"
   ]
  },
  {
   "cell_type": "code",
   "execution_count": null,
   "metadata": {
    "collapsed": true
   },
   "outputs": [],
   "source": []
  }
 ],
 "metadata": {
  "kernelspec": {
   "display_name": "Python 3",
   "language": "python",
   "name": "python3"
  },
  "language_info": {
   "codemirror_mode": {
    "name": "ipython",
    "version": 3
   },
   "file_extension": ".py",
   "mimetype": "text/x-python",
   "name": "python",
   "nbconvert_exporter": "python",
   "pygments_lexer": "ipython3",
   "version": "3.6.2"
  },
  "widgets": {
   "application/vnd.jupyter.widget-state+json": {
    "state": {
     "21ed152f23fd4154b0676d3eeb021bfc": {
      "model_module": "@jupyter-widgets/base",
      "model_module_version": "1.0.0",
      "model_name": "LayoutModel",
      "state": {}
     },
     "22c7da681baa4255b2b7eed16cc889ad": {
      "model_module": "@jupyter-widgets/controls",
      "model_module_version": "1.0.0",
      "model_name": "SliderStyleModel",
      "state": {
       "description_width": ""
      }
     },
     "2780501162614906b911eed1ef73e532": {
      "model_module": "@jupyter-widgets/controls",
      "model_module_version": "1.0.0",
      "model_name": "VBoxModel",
      "state": {
       "_dom_classes": [
        "widget-interact"
       ],
       "children": [
        "IPY_MODEL_4b7f1415eca24301aa3de316e12c5a14",
        "IPY_MODEL_3025a9d434f24f31b901f02aa724cee4",
        "IPY_MODEL_ba9d1b62fa034efab9d92e8cf791e9ce"
       ],
       "layout": "IPY_MODEL_87462416b9b345879a170a8f969bfe5d"
      }
     },
     "3025a9d434f24f31b901f02aa724cee4": {
      "model_module": "@jupyter-widgets/controls",
      "model_module_version": "1.0.0",
      "model_name": "FloatSliderModel",
      "state": {
       "description": "P2 of Retailer 2:",
       "layout": "IPY_MODEL_a70efd46b9e841a2898d2efb45a7f1b2",
       "max": 1,
       "step": 0.01,
       "style": "IPY_MODEL_22c7da681baa4255b2b7eed16cc889ad",
       "value": 0.29
      }
     },
     "42301969d5e54dff8ef2de53183b0d6f": {
      "model_module": "@jupyter-widgets/base",
      "model_module_version": "1.0.0",
      "model_name": "LayoutModel",
      "state": {}
     },
     "4b7f1415eca24301aa3de316e12c5a14": {
      "model_module": "@jupyter-widgets/controls",
      "model_module_version": "1.0.0",
      "model_name": "FloatSliderModel",
      "state": {
       "description": "P1 of Retailer 1:",
       "layout": "IPY_MODEL_21ed152f23fd4154b0676d3eeb021bfc",
       "max": 1,
       "step": 0.01,
       "style": "IPY_MODEL_c626e813b29c419887dca6fc1c9bd976",
       "value": 0.48
      }
     },
     "87462416b9b345879a170a8f969bfe5d": {
      "model_module": "@jupyter-widgets/base",
      "model_module_version": "1.0.0",
      "model_name": "LayoutModel",
      "state": {}
     },
     "a70efd46b9e841a2898d2efb45a7f1b2": {
      "model_module": "@jupyter-widgets/base",
      "model_module_version": "1.0.0",
      "model_name": "LayoutModel",
      "state": {}
     },
     "ba9d1b62fa034efab9d92e8cf791e9ce": {
      "model_module": "@jupyter-widgets/output",
      "model_module_version": "1.0.0",
      "model_name": "OutputModel",
      "state": {
       "layout": "IPY_MODEL_42301969d5e54dff8ef2de53183b0d6f"
      }
     },
     "c626e813b29c419887dca6fc1c9bd976": {
      "model_module": "@jupyter-widgets/controls",
      "model_module_version": "1.0.0",
      "model_name": "SliderStyleModel",
      "state": {
       "description_width": ""
      }
     }
    },
    "version_major": 2,
    "version_minor": 0
   }
  }
 },
 "nbformat": 4,
 "nbformat_minor": 2
}
